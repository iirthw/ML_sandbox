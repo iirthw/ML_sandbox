{
  "nbformat": 4,
  "nbformat_minor": 0,
  "metadata": {
    "colab": {
      "name": "validate_model.ipynb",
      "provenance": [],
      "authorship_tag": "ABX9TyMegkxzK53KB9Hd9l727j2R",
      "include_colab_link": true
    },
    "kernelspec": {
      "name": "python3",
      "display_name": "Python 3"
    },
    "language_info": {
      "name": "python"
    }
  },
  "cells": [
    {
      "cell_type": "markdown",
      "metadata": {
        "id": "view-in-github",
        "colab_type": "text"
      },
      "source": [
        "<a href=\"https://colab.research.google.com/github/iirthw/Vision_sandbox/blob/main/validate_model.ipynb\" target=\"_parent\"><img src=\"https://colab.research.google.com/assets/colab-badge.svg\" alt=\"Open In Colab\"/></a>"
      ]
    },
    {
      "cell_type": "code",
      "metadata": {
        "id": "wmwpWZFHeUA9"
      },
      "source": [
        "import tensorflow as tf\n",
        "import numpy as np\n",
        "import pickle"
      ],
      "execution_count": 1,
      "outputs": []
    },
    {
      "cell_type": "code",
      "metadata": {
        "id": "behssNdOe6ek"
      },
      "source": [
        "def deserializeTestData(filename):\n",
        "  X_test_data = pickle.load(open(filename,'rb'))\n",
        "  X_head = X_test_data[0] # first (head) element from deserialized data\n",
        "  x = X_head.shape[0]\n",
        "  y = X_head.shape[1]\n",
        "  n = len(X_test_data)\n",
        "\n",
        "  print(x)\n",
        "  print(y)\n",
        "  print(n)\n",
        "\n",
        "  X_test = np.empty((n, x, y))\n",
        "  Y_test = np.arange(n)\n",
        "  for i in Y_test:\n",
        "    X_test[i, :, :] = X_test_data[i]\n",
        "\n",
        "  X_test = X_test.reshape(n, x, y, 1)\n",
        "  Y_test = tf.keras.utils.to_categorical(Y_test)\n",
        "\n",
        "  return X_test, Y_test"
      ],
      "execution_count": 43,
      "outputs": []
    },
    {
      "cell_type": "code",
      "metadata": {
        "colab": {
          "base_uri": "https://localhost:8080/"
        },
        "id": "FHZOKsaze_9w",
        "outputId": "00d20cc5-0ed1-481b-bbdf-30462ca96923"
      },
      "source": [
        "X_test, Y_test = deserializeTestData('test_img_data_col.pickle')\n",
        "print(X_test.shape)\n",
        "print(Y_test.shape)"
      ],
      "execution_count": 44,
      "outputs": [
        {
          "output_type": "stream",
          "name": "stdout",
          "text": [
            "28\n",
            "28\n",
            "10\n",
            "(10, 28, 28, 1)\n",
            "(10, 10)\n"
          ]
        }
      ]
    },
    {
      "cell_type": "code",
      "metadata": {
        "colab": {
          "base_uri": "https://localhost:8080/"
        },
        "id": "ydHIJ9mfkk-f",
        "outputId": "e4cc0b52-9198-45f7-bbcf-f4f3cfa64b7f"
      },
      "source": [
        "model = tf.keras.models.load_model('mnist_cnn_full_0.9.h5')\n",
        "\n",
        "results = model.evaluate(X_test, Y_test)"
      ],
      "execution_count": 45,
      "outputs": [
        {
          "output_type": "stream",
          "name": "stdout",
          "text": [
            "1/1 [==============================] - 0s 429ms/step - loss: 1.4965 - accuracy: 0.6000\n"
          ]
        }
      ]
    }
  ]
}