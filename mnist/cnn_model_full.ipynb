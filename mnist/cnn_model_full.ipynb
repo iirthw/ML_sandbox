{
  "nbformat": 4,
  "nbformat_minor": 0,
  "metadata": {
    "colab": {
      "name": "cnn_model.ipynb",
      "provenance": [],
      "collapsed_sections": [],
      "authorship_tag": "ABX9TyM0/D0dZKLn50IDWlt8jKdr"
    },
    "kernelspec": {
      "name": "python3",
      "display_name": "Python 3"
    },
    "language_info": {
      "name": "python"
    }
  },
  "cells": [
    {
      "cell_type": "markdown",
      "metadata": {
        "id": "cOzNLdwGc6fZ"
      },
      "source": [
        ""
      ]
    },
    {
      "cell_type": "markdown",
      "metadata": {
        "id": "I6kOOK1cuUrh"
      },
      "source": [
        "Train classical convolutional NN on MNIST data set."
      ]
    },
    {
      "cell_type": "code",
      "metadata": {
        "id": "WSYITuzuuYoo"
      },
      "source": [
        "import tensorflow as tf\n",
        "import matplotlib.pyplot as plt\n",
        "import cv2 \n",
        "import numpy as np\n",
        "import pickle"
      ],
      "execution_count": 1,
      "outputs": []
    },
    {
      "cell_type": "code",
      "metadata": {
        "id": "tuRb8ZDQ0QQA"
      },
      "source": [
        "NUM_CHANNELS = 1\n",
        "IMG_SIZE = 28\n",
        "NUM_LABELS = 10\n",
        "PIXEL_DEPTH = 255\n",
        "NUM_EPOCHS = 1\n",
        "REDUCE_TEST_DATA=0.2\n",
        "FILTER_DIGITS = False\n",
        "ZERO_CENTER_DATA = True\n",
        "SAVE_MODEL = True\n",
        "LOAD_PICKLE = False"
      ],
      "execution_count": 2,
      "outputs": []
    },
    {
      "cell_type": "code",
      "metadata": {
        "id": "UBEHU-A0Yo3r"
      },
      "source": [
        "if LOAD_PICKLE:\n",
        "  test_img_data_col = pickle.load(open('test_img_data_col.pickle', 'rb'))\n",
        "  N = len(test_img_data_col)\n",
        "  print(N)\n",
        "\n",
        "  X = test_img_data_col[0].shape[0]\n",
        "  Y = test_img_data_col[0].shape[1]\n",
        "\n",
        "  print(X)\n",
        "  print(Y)\n",
        "\n",
        "  x_test_data_col = np.empty((N, X, Y))\n",
        "  y_test_data_col = np.arange(N)\n",
        "  print(x_test_data_col.shape)\n",
        "  print(y_test_data_col.shape)"
      ],
      "execution_count": 3,
      "outputs": []
    },
    {
      "cell_type": "code",
      "metadata": {
        "id": "p9VMH2EFup5P",
        "colab": {
          "base_uri": "https://localhost:8080/"
        },
        "outputId": "bee45e82-bd8c-4598-a9d4-f37aea28a3b5"
      },
      "source": [
        "from tensorflow.keras.datasets import mnist\n",
        "(x_train0, y_train0), (x_test0, y_test0) = mnist.load_data()\n",
        "\n",
        "print(x_test0.shape)\n",
        "print(y_test0.shape)"
      ],
      "execution_count": 4,
      "outputs": [
        {
          "output_type": "stream",
          "name": "stdout",
          "text": [
            "Downloading data from https://storage.googleapis.com/tensorflow/tf-keras-datasets/mnist.npz\n",
            "11493376/11490434 [==============================] - 0s 0us/step\n",
            "11501568/11490434 [==============================] - 0s 0us/step\n",
            "(10000, 28, 28)\n",
            "(10000,)\n"
          ]
        }
      ]
    },
    {
      "cell_type": "markdown",
      "metadata": {
        "id": "I6CMCnCqTM-q"
      },
      "source": [
        "Keep only 0, 1, 2"
      ]
    },
    {
      "cell_type": "code",
      "metadata": {
        "id": "mJ8HLKglTMCf",
        "colab": {
          "base_uri": "https://localhost:8080/"
        },
        "outputId": "c7794c05-c15f-4fdb-a8d3-4ad87e971bc7"
      },
      "source": [
        "def filter_012(x, y):\n",
        "    keep = (y == 0) | (y == 1) | (y == 2)\n",
        "    x, y = x[keep], y[keep]\n",
        "    #y = y == 3\n",
        "    return x, y\n",
        "\n",
        "# Optional filtering\n",
        "if FILTER_DIGITS:\n",
        "  print('Filter ON')\n",
        "  x_train, y_train = filter_012(x_train0, y_train0)\n",
        "  x_test, y_test = filter_012(x_test0, y_test0)\n",
        "else:\n",
        "  print('Filter OFF')\n",
        "  x_test = x_test0\n",
        "  y_test = y_test0\n",
        "  x_train = x_train0\n",
        "  y_train = y_train0\n",
        "\n",
        "# Zero-center training and validation data\n",
        "if ZERO_CENTER_DATA:\n",
        "  x_train = (x_train - (PIXEL_DEPTH / 2.0)) / PIXEL_DEPTH\n",
        "  x_test = (x_test - (PIXEL_DEPTH / 2.0)) / PIXEL_DEPTH\n",
        "\n",
        "print(\"Number of filtered training examples:\", len(x_train))\n",
        "print(\"Number of filtered test examples:\", len(x_test))"
      ],
      "execution_count": 5,
      "outputs": [
        {
          "output_type": "stream",
          "name": "stdout",
          "text": [
            "Filter OFF\n",
            "Number of filtered training examples: 60000\n",
            "Number of filtered test examples: 10000\n"
          ]
        }
      ]
    },
    {
      "cell_type": "code",
      "metadata": {
        "colab": {
          "base_uri": "https://localhost:8080/",
          "height": 301
        },
        "id": "dwARmeqnu7MV",
        "outputId": "e9fb3a1c-ec6d-45cb-8a2a-0baa4a076b07"
      },
      "source": [
        "print(y_train[0])\n",
        "\n",
        "fig = plt.figure()\n",
        "gs = fig.add_gridspec(2, 3)\n",
        "ax1 = fig.add_subplot(gs[0, 0])\n",
        "ax2 = fig.add_subplot(gs[1, 0])\n",
        "ax3 = fig.add_subplot(gs[0, 1])\n",
        "ax4 = fig.add_subplot(gs[1, 1])\n",
        "ax5 = fig.add_subplot(gs[0, 2])\n",
        "ax6 = fig.add_subplot(gs[1, 2])\n",
        "ax1.imshow(x_train[0, :, :].squeeze(), cmap='gist_gray')\n",
        "ax2.imshow(x_train[1, :, :].squeeze(), cmap='gist_gray')\n",
        "ax3.imshow(x_train[2, :, :].squeeze(), cmap='gist_gray')\n",
        "ax4.imshow(x_train[3, :, :].squeeze(), cmap='gist_gray')\n",
        "ax5.imshow(x_train[4, :, :].squeeze(), cmap='gist_gray')\n",
        "ax6.imshow(x_train[5, :, :].squeeze(), cmap='gist_gray')"
      ],
      "execution_count": 6,
      "outputs": [
        {
          "output_type": "stream",
          "name": "stdout",
          "text": [
            "5\n"
          ]
        },
        {
          "output_type": "execute_result",
          "data": {
            "text/plain": [
              "<matplotlib.image.AxesImage at 0x7f6525d74310>"
            ]
          },
          "metadata": {},
          "execution_count": 6
        },
        {
          "output_type": "display_data",
          "data": {
            "image/png": "[encoded data removed]",
            "text/plain": [
              "<Figure size 432x288 with 6 Axes>"
            ]
          },
          "metadata": {
            "needs_background": "light"
          }
        }
      ]
    },
    {
      "cell_type": "markdown",
      "metadata": {
        "id": "KpvUumqtbOnd"
      },
      "source": [
        "Convert train and test images from gray to rgb; and the upscale the images to 32x32 in order to further feed it to the CNN network."
      ]
    },
    {
      "cell_type": "code",
      "metadata": {
        "colab": {
          "base_uri": "https://localhost:8080/"
        },
        "id": "6Aof5RD4bdxd",
        "outputId": "ee906a92-4997-4e91-c31a-6cf9cab62e80"
      },
      "source": [
        "shape_xtr = x_train.shape\n",
        "x_train = np.reshape(x_train, (-1, shape_xtr[1], shape_xtr[2], 1))\n",
        "print(x_train.shape)\n",
        "\n",
        "shape_xt = x_test.shape\n",
        "x_test = np.reshape(x_test, (-1, shape_xt[1], shape_xt[2], 1))\n",
        "print(x_test.shape)\n",
        "\n",
        "y_train = tf.keras.utils.to_categorical(y_train)\n",
        "print(y_train.shape)\n",
        "y_test = tf.keras.utils.to_categorical(y_test)\n",
        "print(y_test.shape)"
      ],
      "execution_count": 7,
      "outputs": [
        {
          "output_type": "stream",
          "name": "stdout",
          "text": [
            "(60000, 28, 28, 1)\n",
            "(10000, 28, 28, 1)\n",
            "(60000, 10)\n",
            "(10000, 10)\n"
          ]
        }
      ]
    },
    {
      "cell_type": "markdown",
      "metadata": {
        "id": "Ob0K_VGGwlDe"
      },
      "source": [
        "Create classical CNN model"
      ]
    },
    {
      "cell_type": "code",
      "metadata": {
        "colab": {
          "base_uri": "https://localhost:8080/"
        },
        "id": "Fq_NRoPqwnyZ",
        "outputId": "a17e4c87-9e5a-4ae6-ea7a-c04892978ef0"
      },
      "source": [
        "def create_cnn():\n",
        "  model = tf.keras.Sequential()\n",
        "\n",
        "  model.add(tf.keras.layers.Conv2D(filters=6, kernel_size=(3, 3), activation='relu', input_shape=(28,28,1)))\n",
        "  model.add(tf.keras.layers.AveragePooling2D())\n",
        "\n",
        "  model.add(tf.keras.layers.Conv2D(filters=16, kernel_size=(3, 3), activation='relu'))\n",
        "  model.add(tf.keras.layers.AveragePooling2D())\n",
        "\n",
        "  model.add(tf.keras.layers.Flatten())\n",
        "\n",
        "  model.add(tf.keras.layers.Dense(units=120, activation='relu'))\n",
        "\n",
        "  model.add(tf.keras.layers.Dense(units=84, activation='relu'))\n",
        "\n",
        "  model.add(tf.keras.layers.Dense(units=NUM_LABELS, activation = 'softmax'))\n",
        "\n",
        "  return model\n",
        "\n",
        "\n",
        "model = create_cnn()\n",
        "\n",
        "model.summary()\n",
        "\n",
        "model.compile(loss=tf.keras.losses.categorical_crossentropy, optimizer=tf.keras.optimizers.Adam(), metrics=['accuracy'])"
      ],
      "execution_count": 8,
      "outputs": [
        {
          "output_type": "stream",
          "name": "stdout",
          "text": [
            "Model: \"sequential\"\n",
            "_________________________________________________________________\n",
            " Layer (type)                Output Shape              Param #   \n",
            "=================================================================\n",
            " conv2d (Conv2D)             (None, 26, 26, 6)         60        \n",
            "                                                                 \n",
            " average_pooling2d (AverageP  (None, 13, 13, 6)        0         \n",
            " ooling2D)                                                       \n",
            "                                                                 \n",
            " conv2d_1 (Conv2D)           (None, 11, 11, 16)        880       \n",
            "                                                                 \n",
            " average_pooling2d_1 (Averag  (None, 5, 5, 16)         0         \n",
            " ePooling2D)                                                     \n",
            "                                                                 \n",
            " flatten (Flatten)           (None, 400)               0         \n",
            "                                                                 \n",
            " dense (Dense)               (None, 120)               48120     \n",
            "                                                                 \n",
            " dense_1 (Dense)             (None, 84)                10164     \n",
            "                                                                 \n",
            " dense_2 (Dense)             (None, 10)                850       \n",
            "                                                                 \n",
            "=================================================================\n",
            "Total params: 60,074\n",
            "Trainable params: 60,074\n",
            "Non-trainable params: 0\n",
            "_________________________________________________________________\n"
          ]
        }
      ]
    },
    {
      "cell_type": "markdown",
      "metadata": {
        "id": "ONmyM3xiwyNT"
      },
      "source": [
        "Fit the model"
      ]
    },
    {
      "cell_type": "code",
      "metadata": {
        "id": "B54KUOukw0UI",
        "colab": {
          "base_uri": "https://localhost:8080/"
        },
        "outputId": "e279344e-4f76-4288-fc85-9eab22b388f4"
      },
      "source": [
        "tf.config.run_functions_eagerly(True)\n",
        "print(x_train.shape)\n",
        "print(x_test.shape)\n",
        "model.fit(x_train, y_train, \n",
        "          batch_size=128,\n",
        "          epochs=NUM_EPOCHS, verbose=1, validation_data=(x_test, y_test))"
      ],
      "execution_count": 9,
      "outputs": [
        {
          "output_type": "stream",
          "name": "stdout",
          "text": [
            "(60000, 28, 28, 1)\n",
            "(10000, 28, 28, 1)\n"
          ]
        },
        {
          "output_type": "stream",
          "name": "stderr",
          "text": [
            "/usr/local/lib/python3.7/dist-packages/tensorflow/python/data/ops/dataset_ops.py:4527: UserWarning: Even though the `tf.config.experimental_run_functions_eagerly` option is set, this option does not apply to tf.data functions. To force eager execution of tf.data functions, please use `tf.data.experimental.enable_debug_mode()`.\n",
            "  \"Even though the `tf.config.experimental_run_functions_eagerly` \"\n"
          ]
        },
        {
          "output_type": "stream",
          "name": "stdout",
          "text": [
            "469/469 [==============================] - 34s 71ms/step - loss: 0.4488 - accuracy: 0.8684 - val_loss: 0.1440 - val_accuracy: 0.9543\n"
          ]
        },
        {
          "output_type": "execute_result",
          "data": {
            "text/plain": [
              "<keras.callbacks.History at 0x7f65226eb050>"
            ]
          },
          "metadata": {},
          "execution_count": 9
        }
      ]
    },
    {
      "cell_type": "markdown",
      "metadata": {
        "id": "oSL89QPOw5rx"
      },
      "source": [
        "Evaluate the model"
      ]
    },
    {
      "cell_type": "code",
      "metadata": {
        "id": "98sfIwm0w-Kf",
        "colab": {
          "base_uri": "https://localhost:8080/"
        },
        "outputId": "c391ec6e-b889-4f96-ddfa-80ac68954ba2"
      },
      "source": [
        "cnn_results = model.evaluate(x_test, y_test)\n",
        "\n",
        "if SAVE_MODEL:\n",
        "  suffix = ''\n",
        "  if NUM_EPOCHS == 1:\n",
        "    suffix = '_epoch'\n",
        "  else:\n",
        "    suffix = '_epochs'\n",
        "\n",
        "  model.save('model_' + str(NUM_EPOCHS) + suffix + '.h5')"
      ],
      "execution_count": 10,
      "outputs": [
        {
          "output_type": "stream",
          "name": "stdout",
          "text": [
            "  7/313 [..............................] - ETA: 5s - loss: 0.0665 - accuracy: 0.9866"
          ]
        },
        {
          "output_type": "stream",
          "name": "stderr",
          "text": [
            "/usr/local/lib/python3.7/dist-packages/tensorflow/python/data/ops/dataset_ops.py:4527: UserWarning: Even though the `tf.config.experimental_run_functions_eagerly` option is set, this option does not apply to tf.data functions. To force eager execution of tf.data functions, please use `tf.data.experimental.enable_debug_mode()`.\n",
            "  \"Even though the `tf.config.experimental_run_functions_eagerly` \"\n"
          ]
        },
        {
          "output_type": "stream",
          "name": "stdout",
          "text": [
            "313/313 [==============================] - 6s 18ms/step - loss: 0.1440 - accuracy: 0.9543\n"
          ]
        }
      ]
    },
    {
      "cell_type": "code",
      "metadata": {
        "colab": {
          "base_uri": "https://localhost:8080/"
        },
        "id": "2XAFmre2LIMP",
        "outputId": "1d5ddf99-455d-416f-9833-04c7404d8769"
      },
      "source": [
        "# x_test0 is a small subset of x_test, in order to check the exact values for the predicted labesl\n",
        "n = 5\n",
        "x_test0 = x_test[0:n,...]\n",
        "y_test0 = y_test[0:n,...]\n",
        "\n",
        "print('y_test0 = ' + str(np.argmax(y_test0, axis=1)))\n",
        "\n",
        "y_prime = model.predict(x_test0)\n",
        "print('y_prime = ' + str(np.argmax(y_prime, axis=1)))\n",
        "\n",
        "def pickleTestData(X, Y, fname):\n",
        "  with open(fname, 'wb') as file:\n",
        "    pickle.dump([X, Y], file)\n",
        "\n",
        "def unpickleTestData(fname):\n",
        "  with open(fname, 'rb') as file:\n",
        "    X, Y = pickle.load(file)\n",
        "    return X, Y\n",
        "\n",
        "pickleTestData(x_test0, y_test0, 'test0.pkl')"
      ],
      "execution_count": 33,
      "outputs": [
        {
          "output_type": "stream",
          "name": "stdout",
          "text": [
            "y_test0 = [7 2 1 0 4]\n",
            "y_prime = [7 2 1 0 4]\n"
          ]
        },
        {
          "output_type": "stream",
          "name": "stderr",
          "text": [
            "/usr/local/lib/python3.7/dist-packages/tensorflow/python/data/ops/dataset_ops.py:4527: UserWarning: Even though the `tf.config.experimental_run_functions_eagerly` option is set, this option does not apply to tf.data functions. To force eager execution of tf.data functions, please use `tf.data.experimental.enable_debug_mode()`.\n",
            "  \"Even though the `tf.config.experimental_run_functions_eagerly` \"\n"
          ]
        }
      ]
    }
  ]
}