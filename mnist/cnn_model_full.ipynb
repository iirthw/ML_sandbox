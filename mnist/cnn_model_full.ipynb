{
  "nbformat": 4,
  "nbformat_minor": 0,
  "metadata": {
    "colab": {
      "name": "cnn_model.ipynb",
      "provenance": [],
      "collapsed_sections": [],
      "authorship_tag": "ABX9TyORuV1o9J7jHYzHZwYbiuiZ"
    },
    "kernelspec": {
      "name": "python3",
      "display_name": "Python 3"
    },
    "language_info": {
      "name": "python"
    }
  },
  "cells": [
    {
      "cell_type": "markdown",
      "metadata": {
        "id": "cOzNLdwGc6fZ"
      },
      "source": [
        ""
      ]
    },
    {
      "cell_type": "markdown",
      "metadata": {
        "id": "I6kOOK1cuUrh"
      },
      "source": [
        "Train classical convolutional NN on MNIST data set."
      ]
    },
    {
      "cell_type": "code",
      "metadata": {
        "id": "WSYITuzuuYoo"
      },
      "source": [
        "import tensorflow as tf\n",
        "import matplotlib.pyplot as plt\n",
        "import cv2 \n",
        "import numpy as np\n",
        "import pickle"
      ],
      "execution_count": null,
      "outputs": []
    },
    {
      "cell_type": "code",
      "metadata": {
        "id": "UBEHU-A0Yo3r",
        "colab": {
          "base_uri": "https://localhost:8080/"
        },
        "outputId": "f8631a78-c037-4484-de37-40971feefdeb"
      },
      "source": [
        "test_img_data_col = pickle.load(open('test_img_data_col.pickle', 'rb'))\n",
        "N = len(test_img_data_col)\n",
        "print(N)\n",
        "\n",
        "X = test_img_data_col[0].shape[0]\n",
        "Y = test_img_data_col[0].shape[1]\n",
        "\n",
        "print(X)\n",
        "print(Y)\n",
        "\n",
        "x_test_data_col = np.empty((N, X, Y))\n",
        "y_test_data_col = np.arange(N)\n",
        "print(x_test_data_col.shape)\n",
        "print(y_test_data_col.shape)"
      ],
      "execution_count": null,
      "outputs": [
        {
          "output_type": "stream",
          "name": "stdout",
          "text": [
            "10\n",
            "28\n",
            "28\n",
            "(10, 28, 28)\n",
            "(10,)\n"
          ]
        }
      ]
    },
    {
      "cell_type": "code",
      "metadata": {
        "id": "p9VMH2EFup5P",
        "colab": {
          "base_uri": "https://localhost:8080/"
        },
        "outputId": "9808280f-7b55-4f6b-c93a-e7f51dc3ae6b"
      },
      "source": [
        "from tensorflow.keras.datasets import mnist\n",
        "(x_train0, y_train0), (x_test0, y_test0) = mnist.load_data()\n",
        "\n",
        "print(x_test0.shape)\n",
        "print(y_test0.shape)"
      ],
      "execution_count": null,
      "outputs": [
        {
          "output_type": "stream",
          "name": "stdout",
          "text": [
            "(10000, 28, 28)\n",
            "(10000,)\n"
          ]
        }
      ]
    },
    {
      "cell_type": "markdown",
      "metadata": {
        "id": "I6CMCnCqTM-q"
      },
      "source": [
        "Keep only 0, 1, 2"
      ]
    },
    {
      "cell_type": "code",
      "metadata": {
        "id": "mJ8HLKglTMCf",
        "colab": {
          "base_uri": "https://localhost:8080/"
        },
        "outputId": "1762ccae-154a-4e91-d32a-1458ea586bd6"
      },
      "source": [
        "def filter_012(x, y):\n",
        "    keep = (y == 0) | (y == 1) | (y == 2)\n",
        "    x, y = x[keep], y[keep]\n",
        "    #y = y == 3\n",
        "    return x, y\n",
        "\n",
        "x_train, y_train = filter_012(x_train0, y_train0)\n",
        "x_test, y_test = filter_012(x_test0, y_test0)\n",
        "\n",
        "print(\"Number of filtered training examples:\", len(x_train))\n",
        "print(\"Number of filtered test examples:\", len(x_test))"
      ],
      "execution_count": null,
      "outputs": [
        {
          "output_type": "stream",
          "name": "stdout",
          "text": [
            "Number of filtered training examples: 18623\n",
            "Number of filtered test examples: 3147\n"
          ]
        }
      ]
    },
    {
      "cell_type": "code",
      "metadata": {
        "colab": {
          "base_uri": "https://localhost:8080/",
          "height": 299
        },
        "id": "dwARmeqnu7MV",
        "outputId": "a2ae0ee4-4f7e-4e7f-c13a-18bd17410c0f"
      },
      "source": [
        "print(y_train[0])\n",
        "\n",
        "plt.imshow(x_train[0, :, :], cmap='Greens')\n",
        "plt.colorbar()"
      ],
      "execution_count": null,
      "outputs": [
        {
          "output_type": "stream",
          "name": "stdout",
          "text": [
            "0\n"
          ]
        },
        {
          "output_type": "execute_result",
          "data": {
            "text/plain": [
              "<matplotlib.colorbar.Colorbar at 0x7f3d1270ccd0>"
            ]
          },
          "metadata": {},
          "execution_count": 44
        },
        {
          "output_type": "display_data",
          "data": {
            "image/png": "[encoded data removed]",
            "text/plain": [
              "<Figure size 432x288 with 2 Axes>"
            ]
          },
          "metadata": {
            "needs_background": "light"
          }
        }
      ]
    },
    {
      "cell_type": "markdown",
      "metadata": {
        "id": "KpvUumqtbOnd"
      },
      "source": [
        "Convert train and test images from gray to rgb; and the upscale the images to 32x32 in order to further feed it to the CNN network."
      ]
    },
    {
      "cell_type": "code",
      "metadata": {
        "colab": {
          "base_uri": "https://localhost:8080/"
        },
        "id": "6Aof5RD4bdxd",
        "outputId": "fd5ede58-561a-45e6-c783-e6fd1baeeec7"
      },
      "source": [
        "shape_xtr = x_train.shape\n",
        "x_train = np.reshape(x_train, (-1, shape_xtr[1], shape_xtr[2], 1))\n",
        "print(x_train.shape)\n",
        "\n",
        "shape_xt = x_test.shape\n",
        "x_test = np.reshape(x_test, (-1, shape_xt[1], shape_xt[2], 1))\n",
        "print(x_test.shape)\n",
        "\n",
        "y_train = tf.keras.utils.to_categorical(y_train)\n",
        "print(y_train.shape)\n",
        "y_test = tf.keras.utils.to_categorical(y_test)\n",
        "print(y_test.shape)"
      ],
      "execution_count": null,
      "outputs": [
        {
          "output_type": "stream",
          "name": "stdout",
          "text": [
            "(18623, 28, 28, 1)\n",
            "(3147, 28, 28, 1)\n",
            "(18623, 3)\n",
            "(3147, 3)\n"
          ]
        }
      ]
    },
    {
      "cell_type": "markdown",
      "metadata": {
        "id": "Ob0K_VGGwlDe"
      },
      "source": [
        "Create classical CNN model"
      ]
    },
    {
      "cell_type": "code",
      "metadata": {
        "colab": {
          "base_uri": "https://localhost:8080/"
        },
        "id": "Fq_NRoPqwnyZ",
        "outputId": "231c69b5-2f99-4e55-b12f-613a7ee903d2"
      },
      "source": [
        "def create_cnn():\n",
        "  model = tf.keras.Sequential()\n",
        "\n",
        "  model.add(tf.keras.layers.Conv2D(filters=6, kernel_size=(3, 3), activation='relu', input_shape=(28,28,1)))\n",
        "  model.add(tf.keras.layers.AveragePooling2D())\n",
        "\n",
        "  model.add(tf.keras.layers.Conv2D(filters=16, kernel_size=(3, 3), activation='relu'))\n",
        "  model.add(tf.keras.layers.AveragePooling2D())\n",
        "\n",
        "  model.add(tf.keras.layers.Flatten())\n",
        "\n",
        "  model.add(tf.keras.layers.Dense(units=120, activation='relu'))\n",
        "\n",
        "  model.add(tf.keras.layers.Dense(units=84, activation='relu'))\n",
        "\n",
        "  model.add(tf.keras.layers.Dense(units=3, activation = 'softmax'))\n",
        "\n",
        "  return model\n",
        "\n",
        "\n",
        "model = create_cnn()\n",
        "\n",
        "model.summary()\n",
        "\n",
        "model.compile(loss=tf.keras.losses.categorical_crossentropy, optimizer=tf.keras.optimizers.Adam(), metrics=['accuracy'])"
      ],
      "execution_count": null,
      "outputs": [
        {
          "output_type": "stream",
          "name": "stdout",
          "text": [
            "Model: \"sequential_18\"\n",
            "_________________________________________________________________\n",
            "Layer (type)                 Output Shape              Param #   \n",
            "=================================================================\n",
            "conv2d_36 (Conv2D)           (None, 26, 26, 6)         60        \n",
            "_________________________________________________________________\n",
            "average_pooling2d_12 (Averag (None, 13, 13, 6)         0         \n",
            "_________________________________________________________________\n",
            "conv2d_37 (Conv2D)           (None, 11, 11, 16)        880       \n",
            "_________________________________________________________________\n",
            "average_pooling2d_13 (Averag (None, 5, 5, 16)          0         \n",
            "_________________________________________________________________\n",
            "flatten_18 (Flatten)         (None, 400)               0         \n",
            "_________________________________________________________________\n",
            "dense_42 (Dense)             (None, 120)               48120     \n",
            "_________________________________________________________________\n",
            "dense_43 (Dense)             (None, 84)                10164     \n",
            "_________________________________________________________________\n",
            "dense_44 (Dense)             (None, 3)                 255       \n",
            "=================================================================\n",
            "Total params: 59,479\n",
            "Trainable params: 59,479\n",
            "Non-trainable params: 0\n",
            "_________________________________________________________________\n"
          ]
        },
        {
          "output_type": "stream",
          "name": "stderr",
          "text": [
            "Exception ignored in: <function IteratorResourceDeleter.__del__ at 0x7f3d3d606d40>\n",
            "Traceback (most recent call last):\n",
            "  File \"/usr/local/lib/python3.7/dist-packages/tensorflow/python/data/ops/iterator_ops.py\", line 546, in __del__\n",
            "    handle=self._handle, deleter=self._deleter)\n",
            "  File \"/usr/local/lib/python3.7/dist-packages/tensorflow/python/ops/gen_dataset_ops.py\", line 1264, in delete_iterator\n",
            "    _ctx, \"DeleteIterator\", name, handle, deleter)\n",
            "KeyboardInterrupt: \n"
          ]
        }
      ]
    },
    {
      "cell_type": "markdown",
      "metadata": {
        "id": "ONmyM3xiwyNT"
      },
      "source": [
        "Fit the model"
      ]
    },
    {
      "cell_type": "code",
      "metadata": {
        "id": "B54KUOukw0UI",
        "colab": {
          "base_uri": "https://localhost:8080/"
        },
        "outputId": "28b318d4-85b6-4db2-a714-992947f26dec"
      },
      "source": [
        "tf.config.run_functions_eagerly(True)\n",
        "print(x_train.shape)\n",
        "print(x_test.shape)\n",
        "model.fit(x_train, y_train, \n",
        "          batch_size=128,\n",
        "          epochs=1, verbose=1, validation_data=(x_test, y_test))"
      ],
      "execution_count": null,
      "outputs": [
        {
          "output_type": "stream",
          "name": "stdout",
          "text": [
            "(18623, 28, 28, 1)\n",
            "(3147, 28, 28, 1)\n",
            "  3/146 [..............................] - ETA: 6s - loss: 0.9849 - accuracy: 0.7240"
          ]
        },
        {
          "output_type": "stream",
          "name": "stderr",
          "text": [
            "/usr/local/lib/python3.7/dist-packages/tensorflow/python/data/ops/dataset_ops.py:4212: UserWarning: Even though the `tf.config.experimental_run_functions_eagerly` option is set, this option does not apply to tf.data functions. To force eager execution of tf.data functions, please use `tf.data.experimental.enable_debug_mode()`.\n",
            "  \"Even though the `tf.config.experimental_run_functions_eagerly` \"\n"
          ]
        },
        {
          "output_type": "stream",
          "name": "stdout",
          "text": [
            "146/146 [==============================] - 7s 50ms/step - loss: 0.0658 - accuracy: 0.9801 - val_loss: 0.0223 - val_accuracy: 0.9911\n"
          ]
        },
        {
          "output_type": "execute_result",
          "data": {
            "text/plain": [
              "<keras.callbacks.History at 0x7f3d0338f390>"
            ]
          },
          "metadata": {},
          "execution_count": 80
        }
      ]
    },
    {
      "cell_type": "markdown",
      "metadata": {
        "id": "oSL89QPOw5rx"
      },
      "source": [
        "Evaluate the model"
      ]
    },
    {
      "cell_type": "code",
      "metadata": {
        "id": "98sfIwm0w-Kf",
        "colab": {
          "base_uri": "https://localhost:8080/"
        },
        "outputId": "a3bc45b9-ecfd-477c-b72e-dfc580702ff4"
      },
      "source": [
        "cnn_results = model.evaluate(x_test, y_test)"
      ],
      "execution_count": null,
      "outputs": [
        {
          "output_type": "stream",
          "name": "stdout",
          "text": [
            "11/99 [==>...........................] - ETA: 1s - loss: 0.0367 - accuracy: 0.9886"
          ]
        },
        {
          "output_type": "stream",
          "name": "stderr",
          "text": [
            "/usr/local/lib/python3.7/dist-packages/tensorflow/python/data/ops/dataset_ops.py:4212: UserWarning: Even though the `tf.config.experimental_run_functions_eagerly` option is set, this option does not apply to tf.data functions. To force eager execution of tf.data functions, please use `tf.data.experimental.enable_debug_mode()`.\n",
            "  \"Even though the `tf.config.experimental_run_functions_eagerly` \"\n"
          ]
        },
        {
          "output_type": "stream",
          "name": "stdout",
          "text": [
            "99/99 [==============================] - 1s 12ms/step - loss: 0.0223 - accuracy: 0.9911\n"
          ]
        }
      ]
    }
  ]
}