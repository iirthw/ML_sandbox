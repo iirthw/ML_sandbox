{
  "nbformat": 4,
  "nbformat_minor": 0,
  "metadata": {
    "colab": {
      "name": "cnn_model.ipynb",
      "provenance": [],
      "collapsed_sections": [],
      "authorship_tag": "ABX9TyM680d9GJUhOWpXGluHdWdT"
    },
    "kernelspec": {
      "name": "python3",
      "display_name": "Python 3"
    },
    "language_info": {
      "name": "python"
    }
  },
  "cells": [
    {
      "cell_type": "markdown",
      "metadata": {
        "id": "cOzNLdwGc6fZ"
      },
      "source": [
        ""
      ]
    },
    {
      "cell_type": "markdown",
      "metadata": {
        "id": "I6kOOK1cuUrh"
      },
      "source": [
        "Train classical convolutional NN on MNIST data set."
      ]
    },
    {
      "cell_type": "code",
      "metadata": {
        "id": "WSYITuzuuYoo"
      },
      "source": [
        "import tensorflow as tf\n",
        "import matplotlib.pyplot as plt\n",
        "import cv2 \n",
        "import numpy as np\n",
        "import pickle"
      ],
      "execution_count": 11,
      "outputs": []
    },
    {
      "cell_type": "code",
      "metadata": {
        "id": "tuRb8ZDQ0QQA"
      },
      "source": [
        "NUM_CHANNELS = 1\n",
        "IMG_SIZE = 28\n",
        "NUM_LABELS = 10\n",
        "PIXEL_DEPTH = 255\n",
        "NUM_EPOCHS = 1\n",
        "REDUCE_TEST_DATA=0.2\n",
        "FILTER_DIGITS = False\n",
        "ZERO_CENTER_DATA = True\n",
        "SAVE_MODEL = True\n",
        "LOAD_PICKLE = False"
      ],
      "execution_count": 12,
      "outputs": []
    },
    {
      "cell_type": "code",
      "metadata": {
        "id": "UBEHU-A0Yo3r"
      },
      "source": [
        "if LOAD_PICKLE:\n",
        "  test_img_data_col = pickle.load(open('test_img_data_col.pickle', 'rb'))\n",
        "  N = len(test_img_data_col)\n",
        "  print(N)\n",
        "\n",
        "  X = test_img_data_col[0].shape[0]\n",
        "  Y = test_img_data_col[0].shape[1]\n",
        "\n",
        "  print(X)\n",
        "  print(Y)\n",
        "\n",
        "  x_test_data_col = np.empty((N, X, Y))\n",
        "  y_test_data_col = np.arange(N)\n",
        "  print(x_test_data_col.shape)\n",
        "  print(y_test_data_col.shape)"
      ],
      "execution_count": 13,
      "outputs": []
    },
    {
      "cell_type": "code",
      "metadata": {
        "id": "p9VMH2EFup5P",
        "colab": {
          "base_uri": "https://localhost:8080/"
        },
        "outputId": "5d931ea3-1ded-4688-a994-033cf8900695"
      },
      "source": [
        "from tensorflow.keras.datasets import mnist\n",
        "(x_train0, y_train0), (x_test0, y_test0) = mnist.load_data()\n",
        "\n",
        "print(x_test0.shape)\n",
        "print(y_test0.shape)"
      ],
      "execution_count": 14,
      "outputs": [
        {
          "output_type": "stream",
          "name": "stdout",
          "text": [
            "(10000, 28, 28)\n",
            "(10000,)\n"
          ]
        }
      ]
    },
    {
      "cell_type": "markdown",
      "metadata": {
        "id": "I6CMCnCqTM-q"
      },
      "source": [
        "Keep only 0, 1, 2"
      ]
    },
    {
      "cell_type": "code",
      "metadata": {
        "id": "mJ8HLKglTMCf",
        "colab": {
          "base_uri": "https://localhost:8080/"
        },
        "outputId": "925b5076-7f28-4045-cb9b-a4781391ed63"
      },
      "source": [
        "def filter_012(x, y):\n",
        "    keep = (y == 0) | (y == 1) | (y == 2)\n",
        "    x, y = x[keep], y[keep]\n",
        "    #y = y == 3\n",
        "    return x, y\n",
        "\n",
        "# Optional filtering\n",
        "if FILTER_DIGITS:\n",
        "  print('Filter ON')\n",
        "  x_train, y_train = filter_012(x_train0, y_train0)\n",
        "  x_test, y_test = filter_012(x_test0, y_test0)\n",
        "else:\n",
        "  print('Filter OFF')\n",
        "  x_test = x_test0\n",
        "  y_test = y_test0\n",
        "  x_train = x_train0\n",
        "  y_train = y_train0\n",
        "\n",
        "# Zero-center training and validation data\n",
        "if ZERO_CENTER_DATA:\n",
        "  x_train = (x_train - (PIXEL_DEPTH / 2.0)) / PIXEL_DEPTH\n",
        "  x_test = (x_test - (PIXEL_DEPTH / 2.0)) / PIXEL_DEPTH\n",
        "\n",
        "print(\"Number of filtered training examples:\", len(x_train))\n",
        "print(\"Number of filtered test examples:\", len(x_test))"
      ],
      "execution_count": 15,
      "outputs": [
        {
          "output_type": "stream",
          "name": "stdout",
          "text": [
            "Filter OFF\n",
            "Number of filtered training examples: 60000\n",
            "Number of filtered test examples: 10000\n"
          ]
        }
      ]
    },
    {
      "cell_type": "code",
      "metadata": {
        "colab": {
          "base_uri": "https://localhost:8080/",
          "height": 299
        },
        "id": "dwARmeqnu7MV",
        "outputId": "ebdb4bf2-0028-4c5a-a1e7-a1acdd19f0b5"
      },
      "source": [
        "print(y_train[0])\n",
        "\n",
        "plt.imshow(x_train[0, :, :], cmap='Greens')\n",
        "plt.colorbar()"
      ],
      "execution_count": 16,
      "outputs": [
        {
          "output_type": "stream",
          "name": "stdout",
          "text": [
            "5\n"
          ]
        },
        {
          "output_type": "execute_result",
          "data": {
            "text/plain": [
              "<matplotlib.colorbar.Colorbar at 0x7f5330f4c3d0>"
            ]
          },
          "metadata": {},
          "execution_count": 16
        },
        {
          "output_type": "display_data",
          "data": {
            "image/png": "[encoded data removed]",
            "text/plain": [
              "<Figure size 432x288 with 2 Axes>"
            ]
          },
          "metadata": {
            "needs_background": "light"
          }
        }
      ]
    },
    {
      "cell_type": "markdown",
      "metadata": {
        "id": "KpvUumqtbOnd"
      },
      "source": [
        "Convert train and test images from gray to rgb; and the upscale the images to 32x32 in order to further feed it to the CNN network."
      ]
    },
    {
      "cell_type": "code",
      "metadata": {
        "colab": {
          "base_uri": "https://localhost:8080/"
        },
        "id": "6Aof5RD4bdxd",
        "outputId": "71c9c59e-1f12-4d16-e72d-cde08987dcf8"
      },
      "source": [
        "shape_xtr = x_train.shape\n",
        "x_train = np.reshape(x_train, (-1, shape_xtr[1], shape_xtr[2], 1))\n",
        "print(x_train.shape)\n",
        "\n",
        "shape_xt = x_test.shape\n",
        "x_test = np.reshape(x_test, (-1, shape_xt[1], shape_xt[2], 1))\n",
        "print(x_test.shape)\n",
        "\n",
        "y_train = tf.keras.utils.to_categorical(y_train)\n",
        "print(y_train.shape)\n",
        "y_test = tf.keras.utils.to_categorical(y_test)\n",
        "print(y_test.shape)"
      ],
      "execution_count": 17,
      "outputs": [
        {
          "output_type": "stream",
          "name": "stdout",
          "text": [
            "(60000, 28, 28, 1)\n",
            "(10000, 28, 28, 1)\n",
            "(60000, 10)\n",
            "(10000, 10)\n"
          ]
        }
      ]
    },
    {
      "cell_type": "markdown",
      "metadata": {
        "id": "Ob0K_VGGwlDe"
      },
      "source": [
        "Create classical CNN model"
      ]
    },
    {
      "cell_type": "code",
      "metadata": {
        "colab": {
          "base_uri": "https://localhost:8080/"
        },
        "id": "Fq_NRoPqwnyZ",
        "outputId": "a3a85f44-2a24-4f85-be52-ffd1e803d61c"
      },
      "source": [
        "def create_cnn():\n",
        "  model = tf.keras.Sequential()\n",
        "\n",
        "  model.add(tf.keras.layers.Conv2D(filters=6, kernel_size=(3, 3), activation='relu', input_shape=(28,28,1)))\n",
        "  model.add(tf.keras.layers.AveragePooling2D())\n",
        "\n",
        "  model.add(tf.keras.layers.Conv2D(filters=16, kernel_size=(3, 3), activation='relu'))\n",
        "  model.add(tf.keras.layers.AveragePooling2D())\n",
        "\n",
        "  model.add(tf.keras.layers.Flatten())\n",
        "\n",
        "  model.add(tf.keras.layers.Dense(units=120, activation='relu'))\n",
        "\n",
        "  model.add(tf.keras.layers.Dense(units=84, activation='relu'))\n",
        "\n",
        "  model.add(tf.keras.layers.Dense(units=NUM_LABELS, activation = 'softmax'))\n",
        "\n",
        "  return model\n",
        "\n",
        "\n",
        "model = create_cnn()\n",
        "\n",
        "model.summary()\n",
        "\n",
        "model.compile(loss=tf.keras.losses.categorical_crossentropy, optimizer=tf.keras.optimizers.Adam(), metrics=['accuracy'])"
      ],
      "execution_count": 18,
      "outputs": [
        {
          "output_type": "stream",
          "name": "stdout",
          "text": [
            "Model: \"sequential_1\"\n",
            "_________________________________________________________________\n",
            "Layer (type)                 Output Shape              Param #   \n",
            "=================================================================\n",
            "conv2d_2 (Conv2D)            (None, 26, 26, 6)         60        \n",
            "_________________________________________________________________\n",
            "average_pooling2d_2 (Average (None, 13, 13, 6)         0         \n",
            "_________________________________________________________________\n",
            "conv2d_3 (Conv2D)            (None, 11, 11, 16)        880       \n",
            "_________________________________________________________________\n",
            "average_pooling2d_3 (Average (None, 5, 5, 16)          0         \n",
            "_________________________________________________________________\n",
            "flatten_1 (Flatten)          (None, 400)               0         \n",
            "_________________________________________________________________\n",
            "dense_3 (Dense)              (None, 120)               48120     \n",
            "_________________________________________________________________\n",
            "dense_4 (Dense)              (None, 84)                10164     \n",
            "_________________________________________________________________\n",
            "dense_5 (Dense)              (None, 10)                850       \n",
            "=================================================================\n",
            "Total params: 60,074\n",
            "Trainable params: 60,074\n",
            "Non-trainable params: 0\n",
            "_________________________________________________________________\n"
          ]
        }
      ]
    },
    {
      "cell_type": "markdown",
      "metadata": {
        "id": "ONmyM3xiwyNT"
      },
      "source": [
        "Fit the model"
      ]
    },
    {
      "cell_type": "code",
      "metadata": {
        "id": "B54KUOukw0UI",
        "colab": {
          "base_uri": "https://localhost:8080/"
        },
        "outputId": "adbec4b8-7d5a-426d-e224-d47fd56a8f52"
      },
      "source": [
        "tf.config.run_functions_eagerly(True)\n",
        "print(x_train.shape)\n",
        "print(x_test.shape)\n",
        "model.fit(x_train, y_train, \n",
        "          batch_size=128,\n",
        "          epochs=NUM_EPOCHS, verbose=1, validation_data=(x_test, y_test))"
      ],
      "execution_count": 19,
      "outputs": [
        {
          "output_type": "stream",
          "name": "stdout",
          "text": [
            "(60000, 28, 28, 1)\n",
            "(10000, 28, 28, 1)\n",
            "  2/469 [..............................] - ETA: 28s - loss: 2.2858 - accuracy: 0.1172"
          ]
        },
        {
          "output_type": "stream",
          "name": "stderr",
          "text": [
            "/usr/local/lib/python3.7/dist-packages/tensorflow/python/data/ops/dataset_ops.py:4212: UserWarning: Even though the `tf.config.experimental_run_functions_eagerly` option is set, this option does not apply to tf.data functions. To force eager execution of tf.data functions, please use `tf.data.experimental.enable_debug_mode()`.\n",
            "  \"Even though the `tf.config.experimental_run_functions_eagerly` \"\n"
          ]
        },
        {
          "output_type": "stream",
          "name": "stdout",
          "text": [
            "469/469 [==============================] - 31s 66ms/step - loss: 0.4160 - accuracy: 0.8791 - val_loss: 0.1500 - val_accuracy: 0.9548\n"
          ]
        },
        {
          "output_type": "execute_result",
          "data": {
            "text/plain": [
              "<keras.callbacks.History at 0x7f5330e70650>"
            ]
          },
          "metadata": {},
          "execution_count": 19
        }
      ]
    },
    {
      "cell_type": "markdown",
      "metadata": {
        "id": "oSL89QPOw5rx"
      },
      "source": [
        "Evaluate the model"
      ]
    },
    {
      "cell_type": "code",
      "metadata": {
        "id": "98sfIwm0w-Kf",
        "colab": {
          "base_uri": "https://localhost:8080/"
        },
        "outputId": "cb795b76-f8b8-482b-8390-42333f716cb8"
      },
      "source": [
        "cnn_results = model.evaluate(x_test, y_test)\n",
        "\n",
        "if SAVE_MODEL:\n",
        "  suffix = ''\n",
        "  if NUM_EPOCHS == 1:\n",
        "    suffix = '_epoch'\n",
        "  else:\n",
        "    suffix = '_epochs'\n",
        "\n",
        "  model.save('model_' + str(NUM_EPOCHS) + suffix + '.h5')"
      ],
      "execution_count": 20,
      "outputs": [
        {
          "output_type": "stream",
          "name": "stdout",
          "text": [
            "  9/313 [..............................] - ETA: 4s - loss: 0.1009 - accuracy: 0.9653"
          ]
        },
        {
          "output_type": "stream",
          "name": "stderr",
          "text": [
            "/usr/local/lib/python3.7/dist-packages/tensorflow/python/data/ops/dataset_ops.py:4212: UserWarning: Even though the `tf.config.experimental_run_functions_eagerly` option is set, this option does not apply to tf.data functions. To force eager execution of tf.data functions, please use `tf.data.experimental.enable_debug_mode()`.\n",
            "  \"Even though the `tf.config.experimental_run_functions_eagerly` \"\n"
          ]
        },
        {
          "output_type": "stream",
          "name": "stdout",
          "text": [
            "313/313 [==============================] - 5s 15ms/step - loss: 0.1500 - accuracy: 0.9548\n"
          ]
        }
      ]
    }
  ]
}