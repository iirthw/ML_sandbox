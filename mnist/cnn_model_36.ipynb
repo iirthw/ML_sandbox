{
  "nbformat": 4,
  "nbformat_minor": 0,
  "metadata": {
    "colab": {
      "name": "cnn_model.ipynb",
      "provenance": [],
      "collapsed_sections": [],
      "authorship_tag": "ABX9TyMeX3dnzxgSLzcrGZbnn9zI"
    },
    "kernelspec": {
      "name": "python3",
      "display_name": "Python 3"
    },
    "language_info": {
      "name": "python"
    }
  },
  "cells": [
    {
      "cell_type": "markdown",
      "metadata": {
        "id": "cOzNLdwGc6fZ"
      },
      "source": [
        ""
      ]
    },
    {
      "cell_type": "markdown",
      "metadata": {
        "id": "I6kOOK1cuUrh"
      },
      "source": [
        "Train classical convolutional NN on MNIST data set."
      ]
    },
    {
      "cell_type": "code",
      "metadata": {
        "id": "WSYITuzuuYoo"
      },
      "source": [
        "import tensorflow as tf\n",
        "import matplotlib.pyplot as plt\n",
        "import cv2 \n",
        "import numpy as np"
      ],
      "execution_count": 14,
      "outputs": []
    },
    {
      "cell_type": "code",
      "metadata": {
        "colab": {
          "base_uri": "https://localhost:8080/"
        },
        "id": "p9VMH2EFup5P",
        "outputId": "f4653277-4a20-42f4-87de-ae3cc2f0c7c2"
      },
      "source": [
        "from tensorflow.keras.datasets import mnist\n",
        "(x_train, y_train), (x_test, y_test) = mnist.load_data()"
      ],
      "execution_count": 4,
      "outputs": [
        {
          "output_type": "stream",
          "name": "stdout",
          "text": [
            "Downloading data from https://storage.googleapis.com/tensorflow/tf-keras-datasets/mnist.npz\n",
            "11493376/11490434 [==============================] - 0s 0us/step\n",
            "11501568/11490434 [==============================] - 0s 0us/step\n"
          ]
        }
      ]
    },
    {
      "cell_type": "code",
      "metadata": {
        "colab": {
          "base_uri": "https://localhost:8080/"
        },
        "id": "KFcnlJGFusxe",
        "outputId": "42565c9c-47f4-4f2e-f03a-325cb628420c"
      },
      "source": [
        "print('MNIST Dataset Shape:')\n",
        "print('x_train: ' + str(x_train.shape) + ', y_train: ' + str(y_train.shape) + ', x_test: ' + str(x_test.shape) + ', y_test: ' + str(y_test.shape))\n",
        "print('Number of training examples: ', len(x_train))\n",
        "print('Number of test examples: ', len(x_test))"
      ],
      "execution_count": 5,
      "outputs": [
        {
          "output_type": "stream",
          "name": "stdout",
          "text": [
            "MNIST Dataset Shape:\n",
            "x_train: (60000, 28, 28), y_train: (60000,), x_test: (10000, 28, 28), y_test: (10000,)\n",
            "Number of training examples:  60000\n",
            "Number of test examples:  10000\n"
          ]
        }
      ]
    },
    {
      "cell_type": "markdown",
      "metadata": {
        "id": "aKnZ_InouxhO"
      },
      "source": [
        "Filter the dataset to keep just the 3s and 6s, remove the other classes. At the same time convert the label, y, to boolean: True for 3 and False for 6."
      ]
    },
    {
      "cell_type": "code",
      "metadata": {
        "colab": {
          "base_uri": "https://localhost:8080/"
        },
        "id": "0j6SRaMMuyeD",
        "outputId": "f2eedff1-d947-4f69-d38c-a93d665f7436"
      },
      "source": [
        "def filter_36(x, y):\n",
        "    keep = (y == 3) | (y == 6)\n",
        "    x, y = x[keep], y[keep]\n",
        "    y = y == 3\n",
        "    return x, y\n",
        "\n",
        "x_train, y_train = filter_36(x_train, y_train)\n",
        "x_test, y_test = filter_36(x_test, y_test)\n",
        "\n",
        "print(\"Number of filtered training examples:\", len(x_train))\n",
        "print(\"Number of filtered test examples:\", len(x_test))"
      ],
      "execution_count": 6,
      "outputs": [
        {
          "output_type": "stream",
          "name": "stdout",
          "text": [
            "Number of filtered training examples: 12049\n",
            "Number of filtered test examples: 1968\n"
          ]
        }
      ]
    },
    {
      "cell_type": "markdown",
      "metadata": {
        "id": "lOa1ciCqu4zk"
      },
      "source": [
        "Show the first example:"
      ]
    },
    {
      "cell_type": "code",
      "metadata": {
        "colab": {
          "base_uri": "https://localhost:8080/",
          "height": 299
        },
        "id": "dwARmeqnu7MV",
        "outputId": "706ed46a-c613-4bb0-a620-f57293d03ead"
      },
      "source": [
        "print(y_train[0])\n",
        "\n",
        "plt.imshow(x_train[0, :, :], cmap='Greens')\n",
        "plt.colorbar()"
      ],
      "execution_count": 7,
      "outputs": [
        {
          "output_type": "stream",
          "name": "stdout",
          "text": [
            "True\n"
          ]
        },
        {
          "output_type": "execute_result",
          "data": {
            "text/plain": [
              "<matplotlib.colorbar.Colorbar at 0x7effadcfe3d0>"
            ]
          },
          "metadata": {},
          "execution_count": 7
        },
        {
          "output_type": "display_data",
          "data": {
            "image/png": "[encoded data removed]",
            "text/plain": [
              "<Figure size 432x288 with 2 Axes>"
            ]
          },
          "metadata": {
            "needs_background": "light"
          }
        }
      ]
    },
    {
      "cell_type": "markdown",
      "metadata": {
        "id": "KpvUumqtbOnd"
      },
      "source": [
        "Convert train and test images from gray to rgb; and the upscale the images to 32x32 in order to further feed it to the CNN network."
      ]
    },
    {
      "cell_type": "code",
      "metadata": {
        "colab": {
          "base_uri": "https://localhost:8080/"
        },
        "id": "6Aof5RD4bdxd",
        "outputId": "890562f0-cbba-4678-f56a-8d1450d72d54"
      },
      "source": [
        "# index number of the image in the training set\n",
        "ni = x_train.shape[0]\n",
        "# width in pixels\n",
        "nx = x_train.shape[1]\n",
        "# height in pixels\n",
        "ny = x_train.shape[2]\n",
        "\n",
        "x_train_rgb = np.ndarray((ni, 32, 32, 3))\n",
        "i = 0\n",
        "\n",
        "x_train = x_train.reshape(ni, nx, ny, 1)\n",
        "x_train_rgb = tf.image.grayscale_to_rgb(tf.convert_to_tensor(x_train))\n",
        "\n",
        "print(x_train_rgb.shape)\n",
        "\n",
        "# Now resize images to 32x32\n",
        "# x_train_rgb = tf.image.resize(x_train_rgb, (32, 32))\n",
        "# print(\"x_train_rgb after resize: \" + str(x_train_rgb.shape))"
      ],
      "execution_count": 8,
      "outputs": [
        {
          "output_type": "stream",
          "name": "stdout",
          "text": [
            "(12049, 28, 28, 3)\n"
          ]
        }
      ]
    },
    {
      "cell_type": "markdown",
      "metadata": {
        "id": "Ob0K_VGGwlDe"
      },
      "source": [
        "Create classical CNN model"
      ]
    },
    {
      "cell_type": "code",
      "metadata": {
        "colab": {
          "base_uri": "https://localhost:8080/"
        },
        "id": "Fq_NRoPqwnyZ",
        "outputId": "8d1462dc-cf92-40f7-d294-a87e895cf9b7"
      },
      "source": [
        "def create_classical_model():\n",
        "    # A simple model based off LeNet from https://keras.io/examples/mnist_cnn/\n",
        "    model = tf.keras.Sequential()\n",
        "    model.add(tf.keras.layers.Conv2D(32, [3, 3], activation='relu', input_shape=(28,28,1)))\n",
        "    model.add(tf.keras.layers.Conv2D(64, [3, 3], activation='relu'))\n",
        "    model.add(tf.keras.layers.MaxPooling2D(pool_size=(2, 2)))\n",
        "    model.add(tf.keras.layers.Dropout(0.25))\n",
        "    model.add(tf.keras.layers.Flatten())\n",
        "    model.add(tf.keras.layers.Dense(128, activation='relu'))\n",
        "    model.add(tf.keras.layers.Dropout(0.5))\n",
        "    model.add(tf.keras.layers.Dense(1))\n",
        "    return model\n",
        "\n",
        "\n",
        "model = create_classical_model()\n",
        "model.compile(loss=tf.keras.losses.BinaryCrossentropy(from_logits=True),\n",
        "              optimizer=tf.keras.optimizers.Adam(),\n",
        "              metrics=['accuracy'])\n",
        "\n",
        "model.summary()"
      ],
      "execution_count": 9,
      "outputs": [
        {
          "output_type": "stream",
          "name": "stdout",
          "text": [
            "Model: \"sequential\"\n",
            "_________________________________________________________________\n",
            "Layer (type)                 Output Shape              Param #   \n",
            "=================================================================\n",
            "conv2d (Conv2D)              (None, 26, 26, 32)        320       \n",
            "_________________________________________________________________\n",
            "conv2d_1 (Conv2D)            (None, 24, 24, 64)        18496     \n",
            "_________________________________________________________________\n",
            "max_pooling2d (MaxPooling2D) (None, 12, 12, 64)        0         \n",
            "_________________________________________________________________\n",
            "dropout (Dropout)            (None, 12, 12, 64)        0         \n",
            "_________________________________________________________________\n",
            "flatten (Flatten)            (None, 9216)              0         \n",
            "_________________________________________________________________\n",
            "dense (Dense)                (None, 128)               1179776   \n",
            "_________________________________________________________________\n",
            "dropout_1 (Dropout)          (None, 128)               0         \n",
            "_________________________________________________________________\n",
            "dense_1 (Dense)              (None, 1)                 129       \n",
            "=================================================================\n",
            "Total params: 1,198,721\n",
            "Trainable params: 1,198,721\n",
            "Non-trainable params: 0\n",
            "_________________________________________________________________\n"
          ]
        }
      ]
    },
    {
      "cell_type": "markdown",
      "metadata": {
        "id": "ONmyM3xiwyNT"
      },
      "source": [
        "Fit the model"
      ]
    },
    {
      "cell_type": "markdown",
      "metadata": {
        "id": "xg_r0eJBSJZP"
      },
      "source": [
        "Reshape x_train, x_test shapes to 4d tensors to be compatible with Keras expected input."
      ]
    },
    {
      "cell_type": "code",
      "metadata": {
        "id": "oP4K2bwRSgpB",
        "colab": {
          "base_uri": "https://localhost:8080/"
        },
        "outputId": "cef97369-dc41-4466-c247-9a6392490fa0"
      },
      "source": [
        "print(\"x_train.shape before: \" + str(x_train.shape))\n",
        "print(\"x_test.shape before: \" + str(x_test.shape))\n",
        "x_train = x_train.reshape(-1, x_train.shape[1], x_train.shape[2], 1)\n",
        "x_test = x_test.reshape(-1, x_test.shape[1], x_test.shape[2], 1)\n",
        "print(\"x_train.shape after: \" + str(x_train.shape))\n",
        "print(\"x_test.shape after: \" + str(x_test.shape))"
      ],
      "execution_count": 10,
      "outputs": [
        {
          "output_type": "stream",
          "name": "stdout",
          "text": [
            "x_train.shape before: (12049, 28, 28, 1)\n",
            "x_test.shape before: (1968, 28, 28)\n",
            "x_train.shape after: (12049, 28, 28, 1)\n",
            "x_test.shape after: (1968, 28, 28, 1)\n"
          ]
        }
      ]
    },
    {
      "cell_type": "code",
      "metadata": {
        "id": "B54KUOukw0UI",
        "colab": {
          "base_uri": "https://localhost:8080/"
        },
        "outputId": "c641d2f2-902d-4779-e716-e274b8e305bf"
      },
      "source": [
        "tf.config.run_functions_eagerly(True)\n",
        "print(x_train.shape)\n",
        "print(x_test.shape)\n",
        "model.fit(x_train, y_train, \n",
        "          batch_size=128,\n",
        "          epochs=1, verbose=1, validation_data=(x_test, y_test))"
      ],
      "execution_count": 11,
      "outputs": [
        {
          "output_type": "stream",
          "name": "stdout",
          "text": [
            "(12049, 28, 28, 1)\n",
            "(1968, 28, 28, 1)\n"
          ]
        },
        {
          "output_type": "stream",
          "name": "stderr",
          "text": [
            "/usr/local/lib/python3.7/dist-packages/tensorflow/python/data/ops/dataset_ops.py:4212: UserWarning: Even though the `tf.config.experimental_run_functions_eagerly` option is set, this option does not apply to tf.data functions. To force eager execution of tf.data functions, please use `tf.data.experimental.enable_debug_mode()`.\n",
            "  \"Even though the `tf.config.experimental_run_functions_eagerly` \"\n"
          ]
        },
        {
          "output_type": "stream",
          "name": "stdout",
          "text": [
            "95/95 [==============================] - 28s 285ms/step - loss: 0.9435 - accuracy: 0.9754 - val_loss: 0.0067 - val_accuracy: 0.9985\n"
          ]
        },
        {
          "output_type": "execute_result",
          "data": {
            "text/plain": [
              "<keras.callbacks.History at 0x7effa9d7ab10>"
            ]
          },
          "metadata": {},
          "execution_count": 11
        }
      ]
    },
    {
      "cell_type": "markdown",
      "metadata": {
        "id": "oSL89QPOw5rx"
      },
      "source": [
        "Evaluate the model"
      ]
    },
    {
      "cell_type": "code",
      "metadata": {
        "id": "98sfIwm0w-Kf",
        "colab": {
          "base_uri": "https://localhost:8080/"
        },
        "outputId": "a8ebd09e-aaa5-4347-a38e-27a3cbcbeb74"
      },
      "source": [
        "cnn_results = model.evaluate(x_test, y_test)"
      ],
      "execution_count": 12,
      "outputs": [
        {
          "output_type": "stream",
          "name": "stdout",
          "text": [
            " 5/62 [=>............................] - ETA: 1s - loss: 1.9724e-05 - accuracy: 1.0000"
          ]
        },
        {
          "output_type": "stream",
          "name": "stderr",
          "text": [
            "/usr/local/lib/python3.7/dist-packages/tensorflow/python/data/ops/dataset_ops.py:4212: UserWarning: Even though the `tf.config.experimental_run_functions_eagerly` option is set, this option does not apply to tf.data functions. To force eager execution of tf.data functions, please use `tf.data.experimental.enable_debug_mode()`.\n",
            "  \"Even though the `tf.config.experimental_run_functions_eagerly` \"\n"
          ]
        },
        {
          "output_type": "stream",
          "name": "stdout",
          "text": [
            "62/62 [==============================] - 2s 25ms/step - loss: 0.0067 - accuracy: 0.9985\n"
          ]
        }
      ]
    },
    {
      "cell_type": "markdown",
      "metadata": {
        "id": "24EOvZ8hDHFa"
      },
      "source": [
        "# Save the model"
      ]
    },
    {
      "cell_type": "code",
      "metadata": {
        "id": "9wCWi8bMCS8T"
      },
      "source": [
        "!mkdir -p saved_model\n",
        "model.save('saved_model/mnist_cnn_36.h5')"
      ],
      "execution_count": 18,
      "outputs": []
    }
  ]
}