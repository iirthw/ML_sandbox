{
  "nbformat": 4,
  "nbformat_minor": 0,
  "metadata": {
    "colab": {
      "name": "validate_model.ipynb",
      "provenance": [],
      "authorship_tag": "ABX9TyNdZ2SKu5s64zU5Xm3Ea3/9",
      "include_colab_link": true
    },
    "kernelspec": {
      "name": "python3",
      "display_name": "Python 3"
    },
    "language_info": {
      "name": "python"
    }
  },
  "cells": [
    {
      "cell_type": "markdown",
      "metadata": {
        "id": "view-in-github",
        "colab_type": "text"
      },
      "source": [
        "<a href=\"https://colab.research.google.com/github/iirthw/Vision_sandbox/blob/main/mnist/validate_model.ipynb\" target=\"_parent\"><img src=\"https://colab.research.google.com/assets/colab-badge.svg\" alt=\"Open In Colab\"/></a>"
      ]
    },
    {
      "cell_type": "code",
      "metadata": {
        "id": "wmwpWZFHeUA9"
      },
      "source": [
        "import tensorflow as tf\n",
        "import numpy as np\n",
        "import pickle"
      ],
      "execution_count": 1,
      "outputs": []
    },
    {
      "cell_type": "code",
      "metadata": {
        "id": "behssNdOe6ek"
      },
      "source": [
        "def deserializeTestData(filename):\n",
        "  X_test_data = pickle.load(open(filename,'rb'))\n",
        "  X_head = X_test_data[0] # first (head) element from deserialized data\n",
        "  x = X_head.shape[0]\n",
        "  y = X_head.shape[1]\n",
        "  n = len(X_test_data)\n",
        "\n",
        "  print(x)\n",
        "  print(y)\n",
        "  print(n)\n",
        "\n",
        "  X_test = np.empty((n, x, y))\n",
        "  Y_test = np.arange(n)\n",
        "  for i in Y_test:\n",
        "    X_test[i, :, :] = X_test_data[i]\n",
        "\n",
        "  return X_test, Y_test"
      ],
      "execution_count": 8,
      "outputs": []
    },
    {
      "cell_type": "code",
      "metadata": {
        "colab": {
          "base_uri": "https://localhost:8080/"
        },
        "id": "FHZOKsaze_9w",
        "outputId": "85528180-9909-4a30-e3f1-462dd650fa46"
      },
      "source": [
        "X_test, Y_test = deserializeTestData('img_0-9.pickle')\n",
        "X_test = X_test[..., np.newaxis]\n",
        "Y_test = tf.keras.utils.to_categorical(Y_test, 10)\n",
        "print(X_test.shape)\n",
        "print(Y_test.shape)"
      ],
      "execution_count": 16,
      "outputs": [
        {
          "output_type": "stream",
          "name": "stdout",
          "text": [
            "28\n",
            "28\n",
            "10\n",
            "(10, 28, 28, 1)\n",
            "(10, 10)\n"
          ]
        }
      ]
    },
    {
      "cell_type": "code",
      "metadata": {
        "colab": {
          "base_uri": "https://localhost:8080/"
        },
        "id": "KA08pV4qw9_n",
        "outputId": "4d14b9fb-cf51-4fbc-87fa-b01d93a67bb9"
      },
      "source": [
        "model = tf.keras.models.load_model('mnist_cnn_full_0.9.h5')\n",
        "model.summary()"
      ],
      "execution_count": 5,
      "outputs": [
        {
          "output_type": "stream",
          "name": "stdout",
          "text": [
            "Model: \"sequential_19\"\n",
            "_________________________________________________________________\n",
            "Layer (type)                 Output Shape              Param #   \n",
            "=================================================================\n",
            "conv2d_38 (Conv2D)           (None, 26, 26, 6)         60        \n",
            "_________________________________________________________________\n",
            "average_pooling2d_14 (Averag (None, 13, 13, 6)         0         \n",
            "_________________________________________________________________\n",
            "conv2d_39 (Conv2D)           (None, 11, 11, 16)        880       \n",
            "_________________________________________________________________\n",
            "average_pooling2d_15 (Averag (None, 5, 5, 16)          0         \n",
            "_________________________________________________________________\n",
            "flatten_19 (Flatten)         (None, 400)               0         \n",
            "_________________________________________________________________\n",
            "dense_45 (Dense)             (None, 120)               48120     \n",
            "_________________________________________________________________\n",
            "dense_46 (Dense)             (None, 84)                10164     \n",
            "_________________________________________________________________\n",
            "dense_47 (Dense)             (None, 10)                850       \n",
            "=================================================================\n",
            "Total params: 60,074\n",
            "Trainable params: 60,074\n",
            "Non-trainable params: 0\n",
            "_________________________________________________________________\n"
          ]
        }
      ]
    },
    {
      "cell_type": "code",
      "metadata": {
        "id": "PWuV9cVxx4jz",
        "outputId": "7bbd2ebb-1cf0-4344-a4ef-16979ca5fbdb",
        "colab": {
          "base_uri": "https://localhost:8080/"
        }
      },
      "source": [
        "results = model.evaluate(X_test, Y_test)"
      ],
      "execution_count": 17,
      "outputs": [
        {
          "output_type": "stream",
          "name": "stdout",
          "text": [
            "1/1 [==============================] - 0s 412ms/step - loss: 1.4965 - accuracy: 0.6000\n"
          ]
        }
      ]
    }
  ]
}