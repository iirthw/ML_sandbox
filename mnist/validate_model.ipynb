{
  "nbformat": 4,
  "nbformat_minor": 0,
  "metadata": {
    "colab": {
      "name": "validate_model.ipynb",
      "provenance": [],
      "authorship_tag": "ABX9TyOp9jDXR4a6LATxKCqre1OP",
      "include_colab_link": true
    },
    "kernelspec": {
      "name": "python3",
      "display_name": "Python 3"
    },
    "language_info": {
      "name": "python"
    }
  },
  "cells": [
    {
      "cell_type": "markdown",
      "metadata": {
        "id": "view-in-github",
        "colab_type": "text"
      },
      "source": [
        "<a href=\"https://colab.research.google.com/github/iirthw/Vision_sandbox/blob/main/mnist/validate_model.ipynb\" target=\"_parent\"><img src=\"https://colab.research.google.com/assets/colab-badge.svg\" alt=\"Open In Colab\"/></a>"
      ]
    },
    {
      "cell_type": "code",
      "metadata": {
        "id": "wmwpWZFHeUA9"
      },
      "source": [
        "import tensorflow as tf\n",
        "import numpy as np\n",
        "import pickle\n",
        "import matplotlib.pyplot as plt"
      ],
      "execution_count": 12,
      "outputs": []
    },
    {
      "cell_type": "code",
      "metadata": {
        "id": "behssNdOe6ek"
      },
      "source": [
        "from tensorflow.keras.datasets import mnist\n",
        "(x_train0, y_train0), (x_test0, y_test0) = mnist.load_data()"
      ],
      "execution_count": 50,
      "outputs": []
    },
    {
      "cell_type": "code",
      "metadata": {
        "id": "ES1X89Xv386C",
        "outputId": "b1f1c311-0646-4812-ca0c-c9f334318b91",
        "colab": {
          "base_uri": "https://localhost:8080/"
        }
      },
      "source": [
        "data = pickle.load(open('data0.pkl','rb'))\n",
        "print(data[0].shape)\n",
        "print(data[1].shape)\n",
        "\n",
        "data_test = pickle.load(open('data.pkl','rb'))\n",
        "print(data_train[0].shape)\n",
        "print(data_train[1].shape)"
      ],
      "execution_count": 51,
      "outputs": [
        {
          "output_type": "stream",
          "name": "stdout",
          "text": [
            "(1250, 28, 28)\n",
            "(1250, 1)\n",
            "(756, 28, 28)\n",
            "(756, 1)\n"
          ]
        }
      ]
    },
    {
      "cell_type": "code",
      "metadata": {
        "id": "Ka5WqoUx466H",
        "outputId": "7ee22bed-8e5c-465d-8ff9-61f09f116ef8",
        "colab": {
          "base_uri": "https://localhost:8080/"
        }
      },
      "source": [
        "x_train = data[0]\n",
        "x_train = x_train[..., np.newaxis]\n",
        "y_train = data[1]\n",
        "y_train = tf.keras.utils.to_categorical(y_train, 10)\n",
        "\n",
        "y_train0 = tf.keras.utils.to_categorical(y_train0, 10)\n",
        "y_test0 = tf.keras.utils.to_categorical(y_test0, 10)\n",
        "x_test0 = x_test0[..., np.newaxis]\n",
        "\n",
        "x_test = data_test[0]\n",
        "x_test = x_test[..., np.newaxis]\n",
        "y_test = data_test[1]\n",
        "y_test = tf.keras.utils.to_categorical(y_test, 10)\n",
        "\n",
        "print(x_train.shape)\n",
        "print(y_train.shape)\n",
        "print(x_test0.shape)\n",
        "print(y_test0.shape)\n",
        "\n",
        "PIXEL_DEPTH = 255\n",
        "x_train = (x_train - (PIXEL_DEPTH / 2.0)) / PIXEL_DEPTH\n",
        "x_test = (x_test - (PIXEL_DEPTH / 2.0)) / PIXEL_DEPTH\n",
        "x_train0 = (x_train0 - (PIXEL_DEPTH / 2.0)) / PIXEL_DEPTH\n",
        "x_test0 = (x_test0 - (PIXEL_DEPTH / 2.0)) / PIXEL_DEPTH"
      ],
      "execution_count": 52,
      "outputs": [
        {
          "output_type": "stream",
          "name": "stdout",
          "text": [
            "(1250, 28, 28, 1)\n",
            "(1250, 10)\n",
            "(10000, 28, 28, 1)\n",
            "(10000, 10)\n"
          ]
        }
      ]
    },
    {
      "cell_type": "code",
      "metadata": {
        "id": "08B9nBSV6wOX",
        "outputId": "9c9fb75e-382b-46b1-cc04-614494a7724c",
        "colab": {
          "base_uri": "https://localhost:8080/",
          "height": 284
        }
      },
      "source": [
        "fig = plt.figure()\n",
        "gs = fig.add_gridspec(2, 3)\n",
        "ax1 = fig.add_subplot(gs[0, 0])\n",
        "ax2 = fig.add_subplot(gs[1, 0])\n",
        "ax3 = fig.add_subplot(gs[0, 1])\n",
        "ax4 = fig.add_subplot(gs[1, 1])\n",
        "ax5 = fig.add_subplot(gs[0, 2])\n",
        "ax6 = fig.add_subplot(gs[1, 2])\n",
        "ax1.imshow(x_test[0, :, :].squeeze(), cmap='gist_gray')\n",
        "ax2.imshow(x_test[1, :, :].squeeze(), cmap='gist_gray')\n",
        "ax3.imshow(x_test[2, :, :].squeeze(), cmap='gist_gray')\n",
        "ax4.imshow(x_test[3, :, :].squeeze(), cmap='gist_gray')\n",
        "ax5.imshow(x_test[4, :, :].squeeze(), cmap='gist_gray')\n",
        "ax6.imshow(x_test[5, :, :].squeeze(), cmap='gist_gray')"
      ],
      "execution_count": 60,
      "outputs": [
        {
          "output_type": "execute_result",
          "data": {
            "text/plain": [
              "<matplotlib.image.AxesImage at 0x7f5d852c4190>"
            ]
          },
          "metadata": {},
          "execution_count": 60
        },
        {
          "output_type": "display_data",
          "data": {
            "image/png": "[encoded data removed]",
            "text/plain": [
              "<Figure size 432x288 with 6 Axes>"
            ]
          },
          "metadata": {
            "needs_background": "light"
          }
        }
      ]
    },
    {
      "cell_type": "code",
      "metadata": {
        "colab": {
          "base_uri": "https://localhost:8080/"
        },
        "id": "KA08pV4qw9_n",
        "outputId": "4be7dcfa-4c69-423c-ff35-82decdcf4f2f"
      },
      "source": [
        "model = tf.keras.models.load_model('mnist_cnn_full_0.9.h5')\n",
        "model.summary()"
      ],
      "execution_count": 66,
      "outputs": [
        {
          "output_type": "stream",
          "name": "stdout",
          "text": [
            "Model: \"sequential_19\"\n",
            "_________________________________________________________________\n",
            " Layer (type)                Output Shape              Param #   \n",
            "=================================================================\n",
            " conv2d_38 (Conv2D)          (None, 26, 26, 6)         60        \n",
            "                                                                 \n",
            " average_pooling2d_14 (Avera  (None, 13, 13, 6)        0         \n",
            " gePooling2D)                                                    \n",
            "                                                                 \n",
            " conv2d_39 (Conv2D)          (None, 11, 11, 16)        880       \n",
            "                                                                 \n",
            " average_pooling2d_15 (Avera  (None, 5, 5, 16)         0         \n",
            " gePooling2D)                                                    \n",
            "                                                                 \n",
            " flatten_19 (Flatten)        (None, 400)               0         \n",
            "                                                                 \n",
            " dense_45 (Dense)            (None, 120)               48120     \n",
            "                                                                 \n",
            " dense_46 (Dense)            (None, 84)                10164     \n",
            "                                                                 \n",
            " dense_47 (Dense)            (None, 10)                850       \n",
            "                                                                 \n",
            "=================================================================\n",
            "Total params: 60,074\n",
            "Trainable params: 60,074\n",
            "Non-trainable params: 0\n",
            "_________________________________________________________________\n"
          ]
        }
      ]
    },
    {
      "cell_type": "code",
      "metadata": {
        "id": "v3vTQcXT7fKt",
        "outputId": "c70fadde-293d-4a96-de07-9d499ce36fbd",
        "colab": {
          "base_uri": "https://localhost:8080/"
        }
      },
      "source": [
        "tf.config.run_functions_eagerly(True)\n",
        "print(x_train.shape)\n",
        "print(x_test0.shape)\n",
        "print(y_test0.shape)\n",
        "model.fit(x_train, y_train, \n",
        "          batch_size=128,\n",
        "          epochs=25, verbose=1, validation_data=(x_test0, y_test0))"
      ],
      "execution_count": 59,
      "outputs": [
        {
          "output_type": "stream",
          "name": "stdout",
          "text": [
            "(1250, 28, 28, 1)\n",
            "(10000, 28, 28, 1)\n",
            "(10000, 10)\n",
            "Epoch 1/25\n",
            "\r 1/10 [==>...........................] - ETA: 0s - loss: 0.1182 - accuracy: 0.9688"
          ]
        },
        {
          "output_type": "stream",
          "name": "stderr",
          "text": [
            "/usr/local/lib/python3.7/dist-packages/tensorflow/python/data/ops/dataset_ops.py:4527: UserWarning: Even though the `tf.config.experimental_run_functions_eagerly` option is set, this option does not apply to tf.data functions. To force eager execution of tf.data functions, please use `tf.data.experimental.enable_debug_mode()`.\n",
            "  \"Even though the `tf.config.experimental_run_functions_eagerly` \"\n"
          ]
        },
        {
          "output_type": "stream",
          "name": "stdout",
          "text": [
            "10/10 [==============================] - 3s 361ms/step - loss: 0.0953 - accuracy: 0.9736 - val_loss: 5.1036 - val_accuracy: 0.3119\n",
            "Epoch 2/25\n",
            "10/10 [==============================] - 3s 346ms/step - loss: 0.0787 - accuracy: 0.9808 - val_loss: 4.8290 - val_accuracy: 0.3466\n",
            "Epoch 3/25\n",
            "10/10 [==============================] - 3s 355ms/step - loss: 0.0707 - accuracy: 0.9816 - val_loss: 4.6067 - val_accuracy: 0.3422\n",
            "Epoch 4/25\n",
            "10/10 [==============================] - 3s 339ms/step - loss: 0.0599 - accuracy: 0.9848 - val_loss: 5.2305 - val_accuracy: 0.3499\n",
            "Epoch 5/25\n",
            "10/10 [==============================] - 3s 355ms/step - loss: 0.0577 - accuracy: 0.9864 - val_loss: 5.5889 - val_accuracy: 0.3067\n",
            "Epoch 6/25\n",
            "10/10 [==============================] - 3s 349ms/step - loss: 0.0578 - accuracy: 0.9832 - val_loss: 5.8116 - val_accuracy: 0.3035\n",
            "Epoch 7/25\n",
            "10/10 [==============================] - 3s 330ms/step - loss: 0.0479 - accuracy: 0.9856 - val_loss: 5.6358 - val_accuracy: 0.3197\n",
            "Epoch 8/25\n",
            "10/10 [==============================] - 3s 352ms/step - loss: 0.0452 - accuracy: 0.9896 - val_loss: 5.6944 - val_accuracy: 0.3496\n",
            "Epoch 9/25\n",
            "10/10 [==============================] - 3s 353ms/step - loss: 0.0334 - accuracy: 0.9960 - val_loss: 5.6551 - val_accuracy: 0.3292\n",
            "Epoch 10/25\n",
            "10/10 [==============================] - 3s 351ms/step - loss: 0.0369 - accuracy: 0.9896 - val_loss: 6.3721 - val_accuracy: 0.2929\n",
            "Epoch 11/25\n",
            "10/10 [==============================] - 3s 352ms/step - loss: 0.0334 - accuracy: 0.9936 - val_loss: 6.6813 - val_accuracy: 0.3281\n",
            "Epoch 12/25\n",
            "10/10 [==============================] - 3s 355ms/step - loss: 0.0277 - accuracy: 0.9944 - val_loss: 6.1464 - val_accuracy: 0.3495\n",
            "Epoch 13/25\n",
            "10/10 [==============================] - 3s 351ms/step - loss: 0.0214 - accuracy: 0.9976 - val_loss: 6.7614 - val_accuracy: 0.3161\n",
            "Epoch 14/25\n",
            "10/10 [==============================] - 3s 356ms/step - loss: 0.0176 - accuracy: 0.9976 - val_loss: 6.5821 - val_accuracy: 0.3469\n",
            "Epoch 15/25\n",
            "10/10 [==============================] - 3s 353ms/step - loss: 0.0158 - accuracy: 0.9976 - val_loss: 6.9815 - val_accuracy: 0.3284\n",
            "Epoch 16/25\n",
            "10/10 [==============================] - 3s 351ms/step - loss: 0.0160 - accuracy: 0.9960 - val_loss: 7.1309 - val_accuracy: 0.3264\n",
            "Epoch 17/25\n",
            "10/10 [==============================] - 3s 351ms/step - loss: 0.0164 - accuracy: 0.9984 - val_loss: 7.4284 - val_accuracy: 0.3361\n",
            "Epoch 18/25\n",
            "10/10 [==============================] - 3s 323ms/step - loss: 0.0180 - accuracy: 0.9960 - val_loss: 7.4184 - val_accuracy: 0.3071\n",
            "Epoch 19/25\n",
            "10/10 [==============================] - 3s 340ms/step - loss: 0.0158 - accuracy: 0.9976 - val_loss: 7.2467 - val_accuracy: 0.3404\n",
            "Epoch 20/25\n",
            "10/10 [==============================] - 3s 350ms/step - loss: 0.0122 - accuracy: 0.9992 - val_loss: 7.9419 - val_accuracy: 0.3261\n",
            "Epoch 21/25\n",
            "10/10 [==============================] - 3s 331ms/step - loss: 0.0118 - accuracy: 0.9984 - val_loss: 7.4262 - val_accuracy: 0.3240\n",
            "Epoch 22/25\n",
            "10/10 [==============================] - 3s 325ms/step - loss: 0.0106 - accuracy: 0.9992 - val_loss: 8.2641 - val_accuracy: 0.3218\n",
            "Epoch 23/25\n",
            "10/10 [==============================] - 3s 327ms/step - loss: 0.0081 - accuracy: 1.0000 - val_loss: 7.5997 - val_accuracy: 0.3233\n",
            "Epoch 24/25\n",
            "10/10 [==============================] - 3s 353ms/step - loss: 0.0072 - accuracy: 1.0000 - val_loss: 8.3020 - val_accuracy: 0.3316\n",
            "Epoch 25/25\n",
            "10/10 [==============================] - 3s 350ms/step - loss: 0.0057 - accuracy: 1.0000 - val_loss: 7.9110 - val_accuracy: 0.3262\n"
          ]
        },
        {
          "output_type": "execute_result",
          "data": {
            "text/plain": [
              "<keras.callbacks.History at 0x7f5d853ccb50>"
            ]
          },
          "metadata": {},
          "execution_count": 59
        }
      ]
    },
    {
      "cell_type": "code",
      "metadata": {
        "colab": {
          "base_uri": "https://localhost:8080/"
        },
        "id": "PWuV9cVxx4jz",
        "outputId": "26aeb155-1f18-4951-899b-ce2b18a4b2e9"
      },
      "source": [
        "for i in range(30):\n",
        "  x = x_test[i,...]\n",
        "  y = y_test[i,...]\n",
        "  pred = np.argmax(model.predict(X))\n",
        "  label = np.argmax(y)\n",
        "  res = '✓' if label == pred else 'X'\n",
        "  print(str(label) + ' - ' + str(pred) + ' (' + res + ')')"
      ],
      "execution_count": 68,
      "outputs": [
        {
          "output_type": "stream",
          "name": "stderr",
          "text": [
            "/usr/local/lib/python3.7/dist-packages/tensorflow/python/data/ops/dataset_ops.py:4527: UserWarning: Even though the `tf.config.experimental_run_functions_eagerly` option is set, this option does not apply to tf.data functions. To force eager execution of tf.data functions, please use `tf.data.experimental.enable_debug_mode()`.\n",
            "  \"Even though the `tf.config.experimental_run_functions_eagerly` \"\n"
          ]
        },
        {
          "output_type": "stream",
          "name": "stdout",
          "text": [
            "0 - 5 (X)\n",
            "0 - 5 (X)\n",
            "0 - 5 (X)\n",
            "0 - 5 (X)\n",
            "0 - 5 (X)\n",
            "0 - 5 (X)\n",
            "0 - 5 (X)\n",
            "0 - 5 (X)\n",
            "0 - 5 (X)\n",
            "0 - 5 (X)\n",
            "1 - 5 (X)\n",
            "1 - 5 (X)\n",
            "1 - 5 (X)\n",
            "1 - 5 (X)\n",
            "1 - 5 (X)\n",
            "1 - 5 (X)\n",
            "1 - 5 (X)\n",
            "1 - 5 (X)\n",
            "1 - 5 (X)\n",
            "1 - 5 (X)\n",
            "1 - 5 (X)\n",
            "1 - 5 (X)\n",
            "1 - 5 (X)\n",
            "1 - 5 (X)\n",
            "1 - 5 (X)\n",
            "1 - 5 (X)\n",
            "1 - 5 (X)\n",
            "1 - 5 (X)\n",
            "2 - 5 (X)\n",
            "2 - 5 (X)\n"
          ]
        }
      ]
    },
    {
      "cell_type": "code",
      "metadata": {
        "id": "Orc-EVgIAGAv"
      },
      "source": [
        "for i in range(Y_test.shape[0]):\n",
        "  X = X_test[i,...]\n",
        "  X = X[np.newaxis,...]\n",
        "  Y = Y_test[i,...]\n",
        "  Y = Y[np.newaxis,...]\n",
        "  res = model.evaluate(X, Y)\n",
        "  print(res)"
      ],
      "execution_count": null,
      "outputs": []
    }
  ]
}