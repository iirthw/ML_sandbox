{
  "nbformat": 4,
  "nbformat_minor": 0,
  "metadata": {
    "colab": {
      "name": "validate_model.ipynb",
      "provenance": [],
      "authorship_tag": "ABX9TyOaxsVsqHbucdZTfGE7ZKlv",
      "include_colab_link": true
    },
    "kernelspec": {
      "name": "python3",
      "display_name": "Python 3"
    },
    "language_info": {
      "name": "python"
    }
  },
  "cells": [
    {
      "cell_type": "markdown",
      "metadata": {
        "id": "view-in-github",
        "colab_type": "text"
      },
      "source": [
        "<a href=\"https://colab.research.google.com/github/iirthw/Vision_sandbox/blob/main/mnist/validate_model.ipynb\" target=\"_parent\"><img src=\"https://colab.research.google.com/assets/colab-badge.svg\" alt=\"Open In Colab\"/></a>"
      ]
    },
    {
      "cell_type": "code",
      "metadata": {
        "id": "wmwpWZFHeUA9"
      },
      "source": [
        "import tensorflow as tf\n",
        "import numpy as np\n",
        "import pickle"
      ],
      "execution_count": 1,
      "outputs": []
    },
    {
      "cell_type": "code",
      "metadata": {
        "id": "behssNdOe6ek"
      },
      "source": [
        "def deserializeTestData(filename):\n",
        "  X_test_data = pickle.load(open(filename,'rb'))\n",
        "  X_head = X_test_data[0] # first (head) element from deserialized data\n",
        "  x = X_head.shape[0]\n",
        "  y = X_head.shape[1]\n",
        "  n = len(X_test_data)\n",
        "\n",
        "  print(x)\n",
        "  print(y)\n",
        "  print(n)\n",
        "\n",
        "  X_test = np.empty((n, x, y))\n",
        "  Y_test = np.arange(n)\n",
        "  for i in Y_test:\n",
        "    X_test[i, :, :] = X_test_data[i]\n",
        "\n",
        "  return X_test, Y_test"
      ],
      "execution_count": 8,
      "outputs": []
    },
    {
      "cell_type": "code",
      "metadata": {
        "colab": {
          "base_uri": "https://localhost:8080/"
        },
        "id": "FHZOKsaze_9w",
        "outputId": "bad88c3e-095a-482f-e197-45752e2d832e"
      },
      "source": [
        "X_test, Y_test = deserializeTestData('img_0-9.pickle')\n",
        "X_test = X_test[..., np.newaxis]\n",
        "Y_test = tf.keras.utils.to_categorical(Y_test, 10)\n",
        "print(X_test.shape)\n",
        "print(Y_test.shape)"
      ],
      "execution_count": 25,
      "outputs": [
        {
          "output_type": "stream",
          "name": "stdout",
          "text": [
            "28\n",
            "28\n",
            "10\n",
            "(10, 28, 28, 1)\n",
            "(10, 10)\n"
          ]
        }
      ]
    },
    {
      "cell_type": "code",
      "metadata": {
        "colab": {
          "base_uri": "https://localhost:8080/"
        },
        "id": "KA08pV4qw9_n",
        "outputId": "4d14b9fb-cf51-4fbc-87fa-b01d93a67bb9"
      },
      "source": [
        "model = tf.keras.models.load_model('mnist_cnn_full_0.9.h5')\n",
        "model.summary()"
      ],
      "execution_count": 5,
      "outputs": [
        {
          "output_type": "stream",
          "name": "stdout",
          "text": [
            "Model: \"sequential_19\"\n",
            "_________________________________________________________________\n",
            "Layer (type)                 Output Shape              Param #   \n",
            "=================================================================\n",
            "conv2d_38 (Conv2D)           (None, 26, 26, 6)         60        \n",
            "_________________________________________________________________\n",
            "average_pooling2d_14 (Averag (None, 13, 13, 6)         0         \n",
            "_________________________________________________________________\n",
            "conv2d_39 (Conv2D)           (None, 11, 11, 16)        880       \n",
            "_________________________________________________________________\n",
            "average_pooling2d_15 (Averag (None, 5, 5, 16)          0         \n",
            "_________________________________________________________________\n",
            "flatten_19 (Flatten)         (None, 400)               0         \n",
            "_________________________________________________________________\n",
            "dense_45 (Dense)             (None, 120)               48120     \n",
            "_________________________________________________________________\n",
            "dense_46 (Dense)             (None, 84)                10164     \n",
            "_________________________________________________________________\n",
            "dense_47 (Dense)             (None, 10)                850       \n",
            "=================================================================\n",
            "Total params: 60,074\n",
            "Trainable params: 60,074\n",
            "Non-trainable params: 0\n",
            "_________________________________________________________________\n"
          ]
        }
      ]
    },
    {
      "cell_type": "code",
      "metadata": {
        "colab": {
          "base_uri": "https://localhost:8080/"
        },
        "id": "PWuV9cVxx4jz",
        "outputId": "1dea4459-8359-452c-b9b2-63256f66c577"
      },
      "source": [
        "for i in range(Y_test.shape[0]):\n",
        "  X = X_test[i,...]\n",
        "  X = X[np.newaxis,...]\n",
        "  Y = Y_test[i,...]\n",
        "  Y = Y[np.newaxis,...]\n",
        "  res = np.argmax(model.predict(X))\n",
        "  res_label = '✓' if i == res else 'X'\n",
        "  print(str(i) + ' - ' + str(res) + ' (' + res_label + ')')"
      ],
      "execution_count": 61,
      "outputs": [
        {
          "output_type": "stream",
          "name": "stdout",
          "text": [
            "0 - 0 (✓)\n",
            "1 - 1 (✓)\n",
            "2 - 2 (✓)\n",
            "3 - 5 (X)\n",
            "4 - 3 (X)\n",
            "5 - 5 (✓)\n",
            "6 - 6 (✓)\n",
            "7 - 3 (X)\n",
            "8 - 8 (✓)\n",
            "9 - 3 (X)\n"
          ]
        }
      ]
    },
    {
      "cell_type": "code",
      "metadata": {
        "id": "Orc-EVgIAGAv",
        "outputId": "3efb2172-50b7-4e87-fb42-33e448694b3d",
        "colab": {
          "base_uri": "https://localhost:8080/"
        }
      },
      "source": [
        "for i in range(Y_test.shape[0]):\n",
        "  X = X_test[i,...]\n",
        "  X = X[np.newaxis,...]\n",
        "  Y = Y_test[i,...]\n",
        "  Y = Y[np.newaxis,...]\n",
        "  res = model.evaluate(X, Y)\n",
        "  print(res)"
      ],
      "execution_count": 62,
      "outputs": [
        {
          "output_type": "stream",
          "name": "stdout",
          "text": [
            "1/1 [==============================] - 0s 19ms/step - loss: 1.2159 - accuracy: 1.0000\n",
            "[1.2159367799758911, 1.0]\n",
            "1/1 [==============================] - 0s 17ms/step - loss: 0.6101 - accuracy: 1.0000\n",
            "[0.6101481914520264, 1.0]\n",
            "1/1 [==============================] - 0s 16ms/step - loss: 0.0089 - accuracy: 1.0000\n",
            "[0.008933456614613533, 1.0]\n",
            "1/1 [==============================] - 0s 16ms/step - loss: 1.1049 - accuracy: 0.0000e+00\n",
            "[1.1049373149871826, 0.0]\n",
            "1/1 [==============================] - 0s 16ms/step - loss: 0.9842 - accuracy: 0.0000e+00\n",
            "[0.9841980934143066, 0.0]\n",
            "1/1 [==============================] - 0s 17ms/step - loss: 0.0024 - accuracy: 1.0000\n",
            "[0.002370287897065282, 1.0]\n",
            "1/1 [==============================] - 0s 16ms/step - loss: 0.0919 - accuracy: 1.0000\n",
            "[0.09185367077589035, 1.0]\n",
            "1/1 [==============================] - 0s 18ms/step - loss: 1.4890 - accuracy: 0.0000e+00\n",
            "[1.48898184299469, 0.0]\n",
            "1/1 [==============================] - 0s 17ms/step - loss: 9.6334e-04 - accuracy: 1.0000\n",
            "[0.0009633429581299424, 1.0]\n",
            "1/1 [==============================] - 0s 15ms/step - loss: 9.4568 - accuracy: 0.0000e+00\n",
            "[9.456768989562988, 0.0]\n"
          ]
        }
      ]
    }
  ]
}