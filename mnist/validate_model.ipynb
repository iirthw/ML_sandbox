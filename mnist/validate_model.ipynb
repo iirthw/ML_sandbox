{
  "nbformat": 4,
  "nbformat_minor": 0,
  "metadata": {
    "colab": {
      "name": "validate_model.ipynb",
      "provenance": [],
      "authorship_tag": "ABX9TyN1fzFopRz1/zUuPhUED/5x",
      "include_colab_link": true
    },
    "kernelspec": {
      "name": "python3",
      "display_name": "Python 3"
    },
    "language_info": {
      "name": "python"
    }
  },
  "cells": [
    {
      "cell_type": "markdown",
      "metadata": {
        "id": "view-in-github",
        "colab_type": "text"
      },
      "source": [
        "<a href=\"https://colab.research.google.com/github/iirthw/Vision_sandbox/blob/main/mnist/validate_model.ipynb\" target=\"_parent\"><img src=\"https://colab.research.google.com/assets/colab-badge.svg\" alt=\"Open In Colab\"/></a>"
      ]
    },
    {
      "cell_type": "code",
      "metadata": {
        "id": "wmwpWZFHeUA9"
      },
      "source": [
        "import tensorflow as tf\n",
        "import numpy as np\n",
        "import pickle"
      ],
      "execution_count": 1,
      "outputs": []
    },
    {
      "cell_type": "code",
      "metadata": {
        "id": "behssNdOe6ek"
      },
      "source": [
        "def deserializeTestData(filename):\n",
        "  x_test_data = pickle.load(open(filename,'rb'))\n",
        "  x_head = x_test_data[0] # first (head) element from deserialized data\n",
        "  X = x_head.shape[0]\n",
        "  Y = x_head.shape[1]\n",
        "  N = len(x_test_data)\n",
        "\n",
        "  print(X)\n",
        "  print(Y)\n",
        "  print(N)\n",
        "\n",
        "  x_test = np.empty((N, X, Y))\n",
        "  y_test = np.arange(N)\n",
        "  for i in y_test:\n",
        "    x_test[i, :, :] = x_test_data[i]\n",
        "\n",
        "  return x_test, y_test"
      ],
      "execution_count": 29,
      "outputs": []
    },
    {
      "cell_type": "code",
      "metadata": {
        "colab": {
          "base_uri": "https://localhost:8080/"
        },
        "id": "FHZOKsaze_9w",
        "outputId": "9907d30b-870d-465d-848d-1f1e00076742"
      },
      "source": [
        "x_test, y_test = deserializeTestData('test_img_data_col.pickle')\n",
        "print(x_test.shape)\n",
        "print(y_test.shape)"
      ],
      "execution_count": 31,
      "outputs": [
        {
          "output_type": "stream",
          "name": "stdout",
          "text": [
            "28\n",
            "28\n",
            "10\n",
            "(10, 28, 28)\n",
            "(10,)\n"
          ]
        }
      ]
    }
  ]
}