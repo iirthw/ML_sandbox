{
  "nbformat": 4,
  "nbformat_minor": 0,
  "metadata": {
    "kernelspec": {
      "display_name": "Python 3",
      "language": "python",
      "name": "python3"
    },
    "language_info": {
      "codemirror_mode": {
        "name": "ipython",
        "version": 3
      },
      "file_extension": ".py",
      "mimetype": "text/x-python",
      "name": "python",
      "nbconvert_exporter": "python",
      "pygments_lexer": "ipython3",
      "version": "3.7.6"
    },
    "colab": {
      "name": "train.ipynb",
      "provenance": []
    }
  },
  "cells": [
    {
      "cell_type": "markdown",
      "metadata": {
        "id": "Tkiej0k4IyAo"
      },
      "source": [
        "A Jupyter Notebook for Naive and super quick ;-) prediction of Uefa Euro 2020 football competition"
      ]
    },
    {
      "cell_type": "markdown",
      "metadata": {
        "id": "PN-YK3R-IyAt"
      },
      "source": [
        "Import all the required modules:"
      ]
    },
    {
      "cell_type": "code",
      "metadata": {
        "id": "ptPYBvWGIyAu"
      },
      "source": [
        "import tensorflow as tf"
      ],
      "execution_count": 3,
      "outputs": []
    },
    {
      "cell_type": "code",
      "metadata": {
        "id": "KpTjpnc-JhSL",
        "outputId": "0082cfa8-30b5-499e-e8eb-de68f052bc24",
        "colab": {
          "base_uri": "https://localhost:8080/"
        }
      },
      "source": [
        "from tensorflow.keras.datasets import mnist\n",
        "(X_train, Y_train), (X_test, Y_test) = mnist.load_data()"
      ],
      "execution_count": 4,
      "outputs": [
        {
          "output_type": "stream",
          "name": "stdout",
          "text": [
            "Downloading data from https://storage.googleapis.com/tensorflow/tf-keras-datasets/mnist.npz\n",
            "11493376/11490434 [==============================] - 0s 0us/step\n",
            "11501568/11490434 [==============================] - 0s 0us/step\n"
          ]
        }
      ]
    },
    {
      "cell_type": "code",
      "metadata": {
        "id": "OqMvNmAlJoNf",
        "outputId": "af1ee69c-82e8-4c3b-ec9f-cf430c742566",
        "colab": {
          "base_uri": "https://localhost:8080/"
        }
      },
      "source": [
        "print('MNIST Dataset Shape:')\n",
        "print('X_train: ' + str(X_train.shape))\n",
        "print('Y_train: ' + str(Y_train.shape))\n",
        "print('X_test:  ' + str(X_test.shape))\n",
        "print('Y_test:  ' + str(Y_test.shape))"
      ],
      "execution_count": 6,
      "outputs": [
        {
          "output_type": "stream",
          "name": "stdout",
          "text": [
            "MNIST Dataset Shape:\n",
            "X_train: (60000, 28, 28)\n",
            "Y_train: (60000,)\n",
            "X_test:  (10000, 28, 28)\n",
            "Y_test:  (10000,)\n"
          ]
        }
      ]
    }
  ]
}